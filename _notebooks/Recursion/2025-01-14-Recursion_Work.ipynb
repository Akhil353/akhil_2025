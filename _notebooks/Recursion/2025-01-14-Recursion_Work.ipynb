{
 "cells": [
  {
   "cell_type": "markdown",
   "metadata": {},
   "source": [
    "---\n",
    "layout: post\n",
    "title: Recursion Lesson\n",
    "description: All Recursion work\n",
    "toc: True\n",
    "type: ccc\n",
    "courses: {'csa': {'week': 16}}\n",
    "permalink: /csa/Recursion_Lesson\n",
    "menu: nav\n",
    "---"
   ]
  },
  {
   "cell_type": "markdown",
   "metadata": {},
   "source": [
    "# Popcorn Hack 1"
   ]
  },
  {
   "cell_type": "code",
   "execution_count": null,
   "metadata": {
    "vscode": {
     "languageId": "java"
    }
   },
   "outputs": [],
   "source": [
    "// 5! = 5 * 4! = 5 * (5 – 1)!\n",
    "// 4! = 4 * 3! = 4 * (4 – 1)!\n",
    "// ...\n",
    "// 1! = 1\n",
    "public static int factorial(int target) {\n",
    "\tif (target > 1) {\n",
    "        return target * factorial(target - 1);\n",
    "    }\n",
    "    else {\n",
    "        return 1;\n",
    "    }\n",
    "}\n",
    "factorial(5);"
   ]
  },
  {
   "cell_type": "markdown",
   "metadata": {},
   "source": [
    "# Popcorn Hack 2"
   ]
  },
  {
   "cell_type": "code",
   "execution_count": null,
   "metadata": {
    "vscode": {
     "languageId": "java"
    }
   },
   "outputs": [],
   "source": [
    "// Pro tip: Think of why the index is stored as a parameter\n",
    "// What are parameters usually used as?\n",
    "public static int sumArray(int[] arr, int index) { \n",
    "    if (index < arr.length) {\n",
    "        return arr[index] + sumArray(arr, index + 1);\n",
    "    }\n",
    "    else {\n",
    "        return 0;\n",
    "    }\n",
    "} \n",
    "int[] myArr = {69, 420, 123, 456}; // Squid game???\n",
    "sumArray(myArr, 0);"
   ]
  },
  {
   "cell_type": "markdown",
   "metadata": {},
   "source": [
    "# Popcorn Hack 3"
   ]
  },
  {
   "cell_type": "code",
   "execution_count": null,
   "metadata": {
    "vscode": {
     "languageId": "java"
    }
   },
   "outputs": [],
   "source": [
    "// Pro tip: Set max to the first element\n",
    "public static void selectionSort(int[] arr, int index) {\n",
    "    if (index >= arr.length - 1) {\n",
    "        return;\n",
    "    }\n",
    "    int min = index;\n",
    "    for (int i = index + 1; i < arr.length; i++) {\n",
    "        if (arr[i] < arr[min]) {\n",
    "            min = i;\n",
    "        }\n",
    "    }\n",
    "    int temp = arr[index];\n",
    "    arr[index] = arr[min];\n",
    "    arr[min] = temp;\n",
    "    selectionSort(arr, index + 1);\n",
    "}"
   ]
  },
  {
   "cell_type": "markdown",
   "metadata": {},
   "source": [
    "# Popcorn Hack 4"
   ]
  },
  {
   "cell_type": "code",
   "execution_count": null,
   "metadata": {
    "vscode": {
     "languageId": "java"
    }
   },
   "outputs": [],
   "source": [
    "public static void selectionSort2D(int[][] arr, int x_index, int y_index) {\n",
    "    int rows = arr.length;\n",
    "    int cols = arr[0].length;\n",
    "    if (x_index >= rows) return;\n",
    "    int minX = x_index, minY = y_index;\n",
    "    for (int i = x_index; i < rows; i++) {\n",
    "        for (int j = (i == x_index ? y_index : 0); j < cols; j++) {\n",
    "            if (arr[i][j] < arr[minX][minY]) {\n",
    "                minX = i;\n",
    "                minY = j;\n",
    "            }\n",
    "        }\n",
    "    }\n",
    "    int temp = arr[x_index][y_index];\n",
    "    arr[x_index][y_index] = arr[minX][minY];\n",
    "    arr[minX][minY] = temp;\n",
    "    if (y_index + 1 < cols) selectionSort2D(arr, x_index, y_index + 1);\n",
    "    else selectionSort2D(arr, x_index + 1, 0);\n",
    "}\n",
    "public static void main(String[] args) {\n",
    "    int[] arr1 = {64, 42, 25};\n",
    "    int[] arr2 = {12, 22, 11};\n",
    "    int[] arr3 = {90, 33, 45};\n",
    "    int[][] array = {arr1, arr2, arr3};\n",
    "    selectionSort2D(array, 0, 0);\n",
    "    for (int[] row : array) {\n",
    "        for (int num : row) System.out.print(num + \" \");\n",
    "        System.out.println();\n",
    "    }\n",
    "}"
   ]
  },
  {
   "cell_type": "markdown",
   "metadata": {},
   "source": [
    "# HW"
   ]
  },
  {
   "cell_type": "code",
   "execution_count": null,
   "metadata": {
    "vscode": {
     "languageId": "java"
    }
   },
   "outputs": [],
   "source": [
    "public class Student {\n",
    "    String name;\n",
    "    int efficiency, collab, iq;\n",
    "    int performanceScore;\n",
    "    public Student(String name, int efficiency, int collab, int iq) {\n",
    "        this.name = name;\n",
    "        this.efficiency = efficiency;\n",
    "        this.collab = collab;\n",
    "        this.iq = iq;\n",
    "        this.performanceScore = calculatePerformanceScore();\n",
    "    }\n",
    "    public int calculatePerformanceScore() {\n",
    "        return collab + iq + efficiency;\n",
    "    }\n",
    "    public static int sumArray(int[] arr, int index) {\n",
    "        if (index < 0) {\n",
    "            return 0;\n",
    "        }\n",
    "        return arr[index] + sumArray(arr, index - 1);\n",
    "    }\n",
    "    public static void main(String[] args) {\n",
    "        Student[] students = {\n",
    "            new Student(\"srijus\", 92, 98, 95),\n",
    "            new Student(\"aadit\", 97, 95, 97),\n",
    "            new Student(\"erox\", 89, 90, 93),\n",
    "            new Student(\"shubs\", 90, 92, 94),\n",
    "            new Student(\"aashray\", 59, 50, 53)\n",
    "        };\n",
    "        Arrays.sort(students, (a, b) -> b.performanceScore - a.performanceScore);\n",
    "        for (Student student : students) {\n",
    "            System.out.println(student.name + \" - Performance Score: \" + student.performanceScore);\n",
    "        }\n",
    "    }\n",
    "}"
   ]
  }
 ],
 "metadata": {
  "kernelspec": {
   "display_name": "Java",
   "language": "java",
   "name": "java"
  },
  "language_info": {
   "codemirror_mode": "java",
   "file_extension": ".jshell",
   "mimetype": "text/x-java-source",
   "name": "Java",
   "pygments_lexer": "java",
   "version": "17.0.11+7-LTS-207"
  },
  "orig_nbformat": 4
 },
 "nbformat": 4,
 "nbformat_minor": 2
}
