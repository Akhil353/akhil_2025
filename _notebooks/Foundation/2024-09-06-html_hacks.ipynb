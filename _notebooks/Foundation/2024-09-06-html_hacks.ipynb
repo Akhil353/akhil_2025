{
 "cells": [
  {
   "cell_type": "markdown",
   "metadata": {},
   "source": [
    "---\n",
    "layout: post\n",
    "toc: true\n",
    "title: HTML Hacks\n",
    "description: Playing with HTML\n",
    "type: ccc\n",
    "permalink: /htmlhacks\n",
    "---"
   ]
  },
  {
   "cell_type": "code",
   "execution_count": 1,
   "metadata": {},
   "outputs": [
    {
     "data": {
      "text/markdown": [
       "\n",
       "### Markdown: This is a Heading\n",
       "\n",
       "This is a paragraph\n"
      ],
      "text/plain": [
       "<IPython.core.display.Markdown object>"
      ]
     },
     "metadata": {},
     "output_type": "display_data"
    }
   ],
   "source": [
    "%%markdown\n",
    "\n",
    "### Markdown: This is a Heading\n",
    "\n",
    "This is a paragraph"
   ]
  },
  {
   "cell_type": "code",
   "execution_count": 2,
   "metadata": {},
   "outputs": [
    {
     "data": {
      "text/html": [
       "\n",
       "<h3>HTML: This is a Heading</h3>\n",
       "<p>This is a paragraph.</p>\n"
      ],
      "text/plain": [
       "<IPython.core.display.HTML object>"
      ]
     },
     "metadata": {},
     "output_type": "display_data"
    }
   ],
   "source": [
    "%%html\n",
    "\n",
    "<h3>HTML: This is a Heading</h3>\n",
    "<p>This is a paragraph.</p>"
   ]
  },
  {
   "cell_type": "code",
   "execution_count": 3,
   "metadata": {},
   "outputs": [
    {
     "data": {
      "text/html": [
       "<tagname attribute_name=\"attribute_value\" another_attribute=\"another_value\">inner html text</tagname>\n",
       "<a href=\"https://www.w3schools.com/html/default.asp\">Visit W3Schools HTML Page</a>\n"
      ],
      "text/plain": [
       "<IPython.core.display.HTML object>"
      ]
     },
     "metadata": {},
     "output_type": "display_data"
    }
   ],
   "source": [
    "%%html\n",
    "<tagname attribute_name=\"attribute_value\" another_attribute=\"another_value\">inner html text</tagname>\n",
    "<a href=\"https://www.w3schools.com/html/default.asp\">Visit W3Schools HTML Page</a>"
   ]
  },
  {
   "cell_type": "code",
   "execution_count": 11,
   "metadata": {},
   "outputs": [
    {
     "ename": "SyntaxError",
     "evalue": "invalid syntax (3892190488.py, line 2)",
     "output_type": "error",
     "traceback": [
      "\u001b[0;36m  Cell \u001b[0;32mIn[11], line 2\u001b[0;36m\u001b[0m\n\u001b[0;31m    <img alt=\"my_img\" src=\"./images/logo.png\" width=\"100\" height=\"200\">\u001b[0m\n\u001b[0m    ^\u001b[0m\n\u001b[0;31mSyntaxError\u001b[0m\u001b[0;31m:\u001b[0m invalid syntax\n"
     ]
    }
   ],
   "source": [
    "\n",
    "![my_img](./images/logo.png)\n",
    "<img alt=\"my_img\" src=\"./images/logo.png\" width=\"100\" height=\"200\">"
   ]
  },
  {
   "cell_type": "code",
   "execution_count": 5,
   "metadata": {},
   "outputs": [
    {
     "data": {
      "text/html": [
       "[link text](link)\n",
       "<a href=\"link\">link text</a>\n",
       "\n",
       "**Bolded Text**\n",
       "<strong>Bolded Text</strong>\n",
       "\n",
       "\n",
       "*Italic Text*\n",
       "<i>Italic Text</i>\n",
       "\n",
       "<p>This is a paragraph</p>\n",
       "<button>some button text</button>\n",
       "\n",
       "<div>\n",
       "    <!-- notice how tags can be put INSIDE eachother -->\n",
       "    <p>This is the first paragarph of section 1</p>\n",
       "    <p>This is the second paragraph of section 1</p>\n",
       "</div>\n",
       "\n",
       "<!-- second information -->\n",
       "<div>\n",
       "    <!-- notice how tags can be put INSIDE eachother -->\n",
       "    <p>This is the first paragarph of section 2</p>\n",
       "    <p>This is the second paragraph of section 2</p>\n",
       "</div>\n"
      ],
      "text/plain": [
       "<IPython.core.display.HTML object>"
      ]
     },
     "metadata": {},
     "output_type": "display_data"
    }
   ],
   "source": [
    "%%html\n",
    "[link text](link)\n",
    "<a href=\"link\">link text</a>\n",
    "\n",
    "**Bolded Text**\n",
    "<strong>Bolded Text</strong>\n",
    "\n",
    "\n",
    "*Italic Text*\n",
    "<i>Italic Text</i>\n",
    "\n",
    "<p>This is a paragraph</p>\n",
    "<button>some button text</button>\n",
    "\n",
    "<div>\n",
    "    <!-- notice how tags can be put INSIDE eachother -->\n",
    "    <p>This is the first paragarph of section 1</p>\n",
    "    <p>This is the second paragraph of section 1</p>\n",
    "</div>\n",
    "\n",
    "<!-- second information -->\n",
    "<div>\n",
    "    <!-- notice how tags can be put INSIDE eachother -->\n",
    "    <p>This is the first paragarph of section 2</p>\n",
    "    <p>This is the second paragraph of section 2</p>\n",
    "</div>"
   ]
  },
  {
   "cell_type": "code",
   "execution_count": 12,
   "metadata": {},
   "outputs": [
    {
     "data": {
      "text/html": [
       "    <p>How are you doing today?</p>\n",
       "    <div>\n",
       "        <button>Click me to show that youre paying attention</button>\n",
       "        <div>Is this a div class or not?</div>\n",
       "    </div>\n",
       "\n",
       "\n",
       "    <a href=\"http://127.0.0.1:4100/akhil_2025/\">Localhost Link</a><br>\n",
       "    <a href=\"https://app.slack.com/client/TRDESSQ3T/CRPNX2T45?cdn_fallback=1\">CSA Slack Link</a><br>\n",
       "    <div>What am I?</div>\n",
       "    <p>Thank you for looking!</p>\n"
      ],
      "text/plain": [
       "<IPython.core.display.HTML object>"
      ]
     },
     "metadata": {},
     "output_type": "display_data"
    }
   ],
   "source": [
    "%%html\n",
    "    <p>How are you doing today?</p>\n",
    "    <div>\n",
    "        <button>Click me to show that youre paying attention</button>\n",
    "        <div>Is this a div class or not?</div>\n",
    "    </div>\n",
    "\n",
    "\n",
    "    <a href=\"http://127.0.0.1:4100/akhil_2025/\">Localhost Link</a><br>\n",
    "    <a href=\"https://app.slack.com/client/TRDESSQ3T/CRPNX2T45?cdn_fallback=1\">CSA Slack Link</a><br>\n",
    "    <div>What am I?</div>\n",
    "    <p>Thank you for looking!</p>"
   ]
  }
 ],
 "metadata": {
  "kernelspec": {
   "display_name": "venv",
   "language": "python",
   "name": "python3"
  },
  "language_info": {
   "codemirror_mode": {
    "name": "ipython",
    "version": 3
   },
   "file_extension": ".py",
   "mimetype": "text/x-python",
   "name": "python",
   "nbconvert_exporter": "python",
   "pygments_lexer": "ipython3",
   "version": "3.11.5"
  },
  "orig_nbformat": 4
 },
 "nbformat": 4,
 "nbformat_minor": 2
}
