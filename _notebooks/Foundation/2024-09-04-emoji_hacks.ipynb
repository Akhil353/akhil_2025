{
 "cells": [
  {
   "cell_type": "code",
   "execution_count": 1,
   "metadata": {},
   "outputs": [],
   "source": [
    "from emoji import emojize "
   ]
  },
  {
   "cell_type": "code",
   "execution_count": 2,
   "metadata": {},
   "outputs": [
    {
     "name": "stdout",
     "output_type": "stream",
     "text": [
      "👍 CSA W! 💀\n"
     ]
    }
   ],
   "source": [
    "print(emojize(\":thumbs_up: CSA W! :skull:\"))"
   ]
  },
  {
   "cell_type": "code",
   "execution_count": 5,
   "metadata": {},
   "outputs": [
    {
     "name": "stdout",
     "output_type": "stream",
     "text": [
      "Fortnite Battle Royale\n"
     ]
    },
    {
     "data": {
      "text/markdown": [
       "Fortnite Battle Royale is a free-to-play battle royale video game developed and published by Epic Games. It is a companion game to Fortnite: Save the World, a cooperative survival game with construction elements. It was initially released in early access on September 26, 2017, for macOS, PlayStation 4, Windows, and Xbox One, followed by ports for iOS, Nintendo Switch, and Android. Epic dropped the early access label for the game on June 29, 2020. Versions for the Xbox Series X/S and PlayStation 5 were released as launch titles in late 2020.\n",
       "The concept of the game is similar to previous games of the genre: 100 players skydive onto an island and scavenge for gear to defend themselves from other players. Players can fight alone, or with up to three other players. As the match progresses, the playable area within the island gradually constricts, giving the players less and less room to work with; outside this safe zone is \"the Storm\", which inflicts damage on those caught inside it, with the amount of damage growing as the Storm itself does. The last player or team alive wins the match. The main distinction from others in the genre is the game's construction elements, letting players build walls, obstacles, and other structures from collected resources to take cover from incoming fire or give one a strategic view advantage. Battle Royale uses a seasonal approach with battle passes to introduce new character customization content in the game, as well as limited-time events, some of which correspond with changes to the game map. Since its initial release, several other game modes have been introduced, including \"Battle Lab\" and \"Party Royale\".\n",
       "The idea for Battle Royale arose following the release of PlayerUnknown's Battlegrounds in 2017, a similar battle royale game that was highly successful but noted for its technical flaws. Originally released as part of the early access version of Save the World, Epic later transitioned the game to a free-to-play model funded by microtransactions. Following its rise in popularity, Epic split the development team, with one focusing on Battle Royale and the other on Save the World.\n",
       "Battle Royale received positive reviews from critics, who praised its learning curve, gameplay, art style, multiplayer and progression system, while receiving criticism regarding parental and security concerns. The game quickly rose in popularity following its release, eventually surpassing Battlegrounds in overall player count and revenue. Player count had exceeded 350 million by May 2020. The game has gone on to become a cultural phenomenon, with promotion through social media and several celebrities, such as Ninja, Marshmello, and Drake, contributing to the game's popularity, achieving record-high viewership on streaming platforms in the process."
      ],
      "text/plain": [
       "<IPython.core.display.Markdown object>"
      ]
     },
     "metadata": {},
     "output_type": "display_data"
    },
    {
     "name": "stdout",
     "output_type": "stream",
     "text": [
      "Lethal Company\n"
     ]
    },
    {
     "data": {
      "text/markdown": [
       "Lethal Company is an upcoming cooperative survival horror video game developed and published by Zeekerss. It was released in early access in October 2023 and gained popularity on the Steam storefront.\n",
       "In Lethal Company, players obtain and sell scrap from abandoned, industrialized exomoons while avoiding traps, environmental hazards, monsters, and the hostile fauna. As employees of \"The Company\", players must sell enough scrap to meet a series of increasing profit quotas until they inevitably fail and the game starts over.\n",
       "\n"
      ],
      "text/plain": [
       "<IPython.core.display.Markdown object>"
      ]
     },
     "metadata": {},
     "output_type": "display_data"
    },
    {
     "name": "stdout",
     "output_type": "stream",
     "text": [
      "భారతదేశం 142 కోట్లకు పైగా జనాభాతో ప్రపంచంలో మొదటి స్థానంలో, 32,87,263 చ.కి.మీ విస్తీర్ణంతో వైశాల్యంలో ఏడవస్థానంలో ఉన్న అతి పెద్ద స్వేచ్ఛాయుత ప్రజాస్వామ్య దేశం. ఈ దేశం 29 రాష్ట్రాలు, 8 కేంద్రపాలిత ప్రాంతాలు కలిగి, పార్లమెంటరీ వ్యవస్థ పాలన ఉన్న ఒక సమాఖ్య. ఎక్కువ సైనిక సామర్థ్యం కలిగి ఉన్న దేశాలలో ఒకటిగా, అణ్వస్త్ర సామర్థ్యం కలిగిన దేశాలలో ఒక ముఖ్యమైన ప్రాంతీయ శక్తిగా ఉంది. దక్షణాసియాలో ఏడు వేల కిలోమీటర్లకు పైగా సముద్రతీరము కలిగి ఉండి, భారత ఉపఖండములో అధిక భాగాన్ని కూడుకొని ఉన్న భారతదేశం, అనేక చారిత్రక వాణిజ్య రహదారులను కలిగి ఉంది. ఉత్తరాన హిమాలయాలు, దక్షిణాన హిందూ మహాసముద్రం, పశ్చిమాన అరేబియా సముద్రం, తూర్పున బంగాళాఖాతం ఎల్లలుగా ఉన్నాయి. పాకిస్తాన్, చైనా, మయన్మార్, బంగ్లాదేశ్, నేపాల్, భూటాన్, ఆఫ్ఘానిస్తాన్ దేశాలతో సరిహద్దులను పంచుకుంటోంది. శ్రీలంక, మాల్దీవులు, ఇండోనేసియా భారతదేశం దగ్గరలో గల ద్వీప-దేశాలు. ఇది సింధు లోయ నాగరికతకు పుట్టిల్లు. హిందూ, బౌద్ధ, జైన, సిక్కు మతములకు జన్మనిచ్చింది. ఇది బహుభాషా, బహుళ జాతి సంఘము. ఇది వివిధ వన్యప్రాణుల వైవిధ్యం గల దేశం. జనాభాలో భారతదేశం 2023 ఏప్రిల్ లో చైనాను దాటేసింది.\n",
      "మౌర్య సామ్రాజ్య కాలంలో ప్రస్తుత సరిహద్దులలో కొద్దిభాగం మినహాయించి, సరిహద్దులు దాటిన ప్రాంతాలతో పాటు ఒకే చక్రవర్తి పాలనలో వున్నా, తదుపరి పలు చిన్న రాజ్యాలుగా విడిపోయింది. 18 వ శతాబ్దం నుండి బ్రిటిష్ ఈస్ట్ ఇండియా కంపెనీ క్రమంగా ఈ రాజ్యాలను స్వాధీనం చేసుకోవడంతో బ్రిటీష్ కంపెనీ పరిపాలన కిందకు వచ్చింది. 19 వ శతాబ్దం మధ్య నుండి నేరుగా యునైటెడ్ కింగ్డమ్ పాలనలోకి వచ్చింది. మహాత్మా గాంధీ నాయకత్వాన స్వాతంత్ర్యం కోసం జరిగిన అహింసాయుత పోరాటం తర్వాత 1947 లో ఒక స్వతంత్ర దేశంగా ఆవిర్భవించింది.\n",
      "1991 లో మార్కెట్ ఆధారిత ఆర్థిక సంస్కరణలు అనుసరిస్తూ, భారతదేశం వేగంగా అభివృద్ధి చెందుతున్న ప్రధాన ఆర్థిక దేశాలలో ఒకటి అయింది. అయితే, పేదరికం, నిరక్షరాస్యత, అవినీతి, పోషకాహార లోపం వంటి సవాళ్లను ఎదుర్కొంటున్నది.\n"
     ]
    }
   ],
   "source": [
    "import wikipedia \n",
    "from IPython.display import display, Markdown # add for Jupyter\n",
    "\n",
    "wikipedia.set_lang('en')\n",
    "terms = [\"Fortnite Battle Royale\", \"Lethal Company\"]\n",
    "for term in terms:\n",
    "    # Search for a page \n",
    "    result = wikipedia.search(term)\n",
    "\n",
    "    summary = wikipedia.summary(result[0])\n",
    "    print(term) \n",
    "\n",
    "    display(Markdown(summary))\n",
    "\n",
    "wikipedia.set_lang(\"te\") \n",
    "# printing the summary\n",
    "print(wikipedia.summary(\"India\"))\n"
   ]
  },
  {
   "cell_type": "code",
   "execution_count": null,
   "metadata": {},
   "outputs": [],
   "source": [
    "import sys\n",
    "from typing import Union\n",
    "\n",
    "# Define types for mean function, trying to analyze input possibilities\n",
    "Number = Union[int, float]  # Number can be either int or float type\n",
    "Numbers = list[Number] # Numbers is a list of Number types\n",
    "Scores = Union[1, 13, 25] # Scores can be single or multiple \n",
    "\n",
    "def mean(scores: Scores, method: int = 1) -> float:\n",
    "    \"\"\"\n",
    "    Calculate the mean of a list of scores.\n",
    "    \n",
    "    Average and Average2 are hidden functions performing mean algorithm\n",
    "\n",
    "    If a single score is provided in scores, it is returned as the mean.\n",
    "    If a list of scores is provided, the average is calculated and returned.\n",
    "    \"\"\"\n",
    "    \n",
    "    def average(scores): \n",
    "        \"\"\"Calculate the average of a list of scores using a Python for loop with rounding.\"\"\"\n",
    "        sum = 0\n",
    "        len = 0\n",
    "        for score in scores:\n",
    "            if isinstance(score, Number):\n",
    "                sum += score\n",
    "                len += 1\n",
    "            else:\n",
    "                print(\"Bad data: \" + str(score) + \" in \" + str(scores))\n",
    "                sys.exit()\n",
    "        return sum / len\n",
    "    \n",
    "    def average2(scores):\n",
    "        \"\"\"Calculate the average of a list of scores using the built-in sum() function with rounding.\"\"\"\n",
    "        return sum(scores) / len(scores)\n",
    "\n",
    "    # test to see if scores is  a list of numbers\n",
    "    if isinstance(scores, list):\n",
    "        if method == 1:  \n",
    "            # long method\n",
    "            result = average(scores)\n",
    "        else:\n",
    "            # built in method\n",
    "            result = average2(scores)\n",
    "        return round(result + 0.005, 2)\n",
    "    \n",
    "    return scores # case where scores is a single valu\n",
    "\n",
    "# try with one number\n",
    "singleScore = 100\n",
    "print(\"Print test data: \" + str(singleScore))  # concat data for single line\n",
    "print(\"Mean of single number: \" + str(mean(singleScore)))\n",
    "\n",
    "print()\n",
    "\n",
    "# define a list of numbers\n",
    "testScores = [90.5, 100, 85.4, 88]\n",
    "print(\"Print test data: \" + str(testScores))\n",
    "print(\"Average score, loop method: \" + str(mean(testScores)))\n",
    "print(\"Average score, function method: \" +  str(mean(testScores, 2)))\n",
    "\n",
    "print()\n",
    "\n",
    "badData = [100, \"NaN\", 90]\n",
    "print(\"Print test data: \" + str(badData))\n",
    "print(\"Mean with bad data: \" + str(mean(badData)))"
   ]
  },
  {
   "cell_type": "code",
   "execution_count": null,
   "metadata": {},
   "outputs": [],
   "source": []
  }
 ],
 "metadata": {
  "kernelspec": {
   "display_name": "venv",
   "language": "python",
   "name": "python3"
  },
  "language_info": {
   "codemirror_mode": {
    "name": "ipython",
    "version": 3
   },
   "file_extension": ".py",
   "mimetype": "text/x-python",
   "name": "python",
   "nbconvert_exporter": "python",
   "pygments_lexer": "ipython3",
   "version": "3.11.5"
  },
  "orig_nbformat": 4
 },
 "nbformat": 4,
 "nbformat_minor": 2
}
