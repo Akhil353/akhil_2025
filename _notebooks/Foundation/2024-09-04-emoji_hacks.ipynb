{
 "cells": [
  {
   "cell_type": "markdown",
   "metadata": {},
   "source": [
    "---\n",
    "layout: post\n",
    "toc: true\n",
    "title: Notebook Hacks\n",
    "description: Playing around with different libraries\n",
    "type: ccc\n",
    "permalink: /notebookhacks\n",
    "---"
   ]
  },
  {
   "cell_type": "code",
   "execution_count": 1,
   "metadata": {},
   "outputs": [],
   "source": [
    "from emoji import emojize "
   ]
  },
  {
   "cell_type": "code",
   "execution_count": 2,
   "metadata": {},
   "outputs": [
    {
     "name": "stdout",
     "output_type": "stream",
     "text": [
      "👍 CSA W! 💀\n"
     ]
    }
   ],
   "source": [
    "print(emojize(\":thumbs_up: CSA W! :skull:\"))"
   ]
  },
  {
   "cell_type": "code",
   "execution_count": 13,
   "metadata": {},
   "outputs": [
    {
     "name": "stdout",
     "output_type": "stream",
     "text": [
      "Today's articles:\n",
      "1. September 8, 2024, presidential campaign news\n",
      "2. Three Israeli civilians shot dead at Allenby Crossing between West Bank and Jordan\n",
      "3. Line Fire: Residents flee as California and Nevada wildfires grow and forecasters warn of record heat this week\n",
      "4. Don’t Tell Comedy is changing stand-up. Comics say that’s a good thing\n",
      "5. Pat Sajak wins Emmy for final season as host of ‘Wheel of Fortune’\n",
      "6. Frequent flyer programs: The most profitable part of the airline industry\n",
      "7. Harris prepares for the showdown she’s long sought with Trump as he takes more informal approach\n",
      "8. Trump threatens prosecution of 2024 election officials who ‘cheated’ if he wins presidency\n",
      "9. Video: Buttigieg says Harris will need ‘superhuman focus’ while debating Trump\n",
      "10. Inside Kamala Harris’ yearslong crash course in foreign diplomacy\n",
      "11. Afghanistan withdrawal: House Republicans and Democrats to issue dueling documents casting blame for mistakes made in US withdrawal\n",
      "12. GOP plots Pennsylvania onslaught as Democrats battle to keep ‘really difficult’ Senate seat\n",
      "13. Panic buttons and push alerts: How technology helped prevent further bloodshed at Apalachee\n",
      "14. Tyreek Hill: Miami-Dade police officer placed on administrative duty after Dolphins star detained before game\n",
      "15. Video: Tyreek Hill speaks out about being handcuffed by police\n",
      "16. Why people are taking photos of their airport trays now\n",
      "17. Taylor Swift and Travis Kelce serve couple goals at the US Open final\n",
      "18. Kendrick Lamar to headline 2025 Super Bowl halftime show\n",
      "19. Why the taste of these donuts is important to the US army\n",
      "20. Video: CNN speaks with US Open winner\n",
      "21. Suspect in I-75 shootings eludes law enforcement for a second night in rural Kentucky\n",
      "22. Watch: Video shows California wildfires that are forcing evacuations\n",
      "23. Fareed: A strong economy won’t keep populism at bay\n",
      "24. Ukraine’s military is struggling with low morale and desertion\n",
      "25. Video: Fetterman once said Biden dropping out of race would be a mistake. Hear what he thinks now\n",
      "26. Five killed, 19 injured in Israeli airstrikes, Syrian state news agency claims\n",
      "27. ‘We’re gonna be fine’: Harris embraces crying woman while campaigning\n",
      "28. The controversial plan to regreen a desert\n",
      "29. Potential Tropical Cyclone Six forms in Gulf of Mexico\n",
      "30. Dallas Cowboys Dak Prescott becomes highest-paid player in NFL history\n",
      "31. World No. 1 Jannik Sinner beats Taylor Fritz to win US Open, extending American men’s tennis grand slam singles drought\n",
      "32. Lyudmyla Kichenok: This tennis player was supposed to be at her wedding. But winning the US Open women’s doubles title changed her plans\n",
      "33. Pharrell’s Joopiter puts on sale of G-Dragon’s prized possessions\n",
      "34. Frequent flyer programs: The most profitable part of the airline industry\n",
      "35. DirecTV files FCC complaint against Disney amid blackout\n",
      "36. Employers in America want to hire more workers. Just not right now\n",
      "37. Boeing reaches deal with union to avoid strike\n",
      "38. Trump’s claim terrorists are pouring over southern border does not stand up to scrutiny\n",
      "39. Lawmakers return to Washington, DC, with presidential politics looming large\n",
      "40. Bill to address judge shortage faces uphill climb in US House\n",
      "41. Linda Sun: Why it may have taken so long for authorities to act on alleged Chinese agent in New York\n",
      "42. Explosion kills at least 48 people as fuel tanker collides with truck in Nigeria\n",
      "43. Fugitive Filipino preacher wanted by FBI arrested in Philippines weeks after police standoff\n",
      "44. Gonzalez: Venezuelan opposition leader lands in Spain seeking asylum after disputed election\n",
      "45. Harris prepares for the showdown she’s long sought with Trump as he takes more informal approach\n",
      "46. Trump threatens prosecution of 2024 election officials who ‘cheated’ if he wins presidency\n",
      "47. Video: Buttigieg says Harris will need ‘superhuman focus’ while debating Trump\n",
      "48. Inside Kamala Harris’ yearslong crash course in foreign diplomacy\n",
      "49. Afghanistan withdrawal: House Republicans and Democrats to issue dueling documents casting blame for mistakes made in US withdrawal\n",
      "50. GOP plots Pennsylvania onslaught as Democrats battle to keep ‘really difficult’ Senate seat\n",
      "51. Panic buttons and push alerts: How technology helped prevent further bloodshed at Apalachee\n",
      "52. Tyreek Hill: Miami-Dade police officer placed on administrative duty after Dolphins star detained before game\n",
      "53. Video: Tyreek Hill speaks out about being handcuffed by police\n",
      "54. Why people are taking photos of their airport trays now\n",
      "55. Taylor Swift and Travis Kelce serve couple goals at the US Open final\n",
      "56. Kendrick Lamar to headline 2025 Super Bowl halftime show\n",
      "57. Why the taste of these donuts is important to the US army\n",
      "58. Don’t Tell Comedy is changing stand-up. Comics say that’s a good thing\n",
      "59. Video: CNN speaks with US Open winner\n",
      "60. Suspect in I-75 shootings eludes law enforcement for a second night in rural Kentucky\n",
      "61. Watch: Video shows California wildfires that are forcing evacuations\n",
      "62. Three Israeli civilians shot dead at Allenby Crossing between West Bank and Jordan\n",
      "63. Fareed: A strong economy won’t keep populism at bay\n",
      "64. Ukraine’s military is struggling with low morale and desertion\n",
      "65. Video: Fetterman once said Biden dropping out of race would be a mistake. Hear what he thinks now\n",
      "66. Five killed, 19 injured in Israeli airstrikes, Syrian state news agency claims\n",
      "67. ‘We’re gonna be fine’: Harris embraces crying woman while campaigning\n",
      "68. The controversial plan to regreen a desert\n",
      "69. Line Fire: Residents flee as California and Nevada wildfires grow and forecasters warn of record heat this week\n",
      "70. Potential Tropical Cyclone Six forms in Gulf of Mexico\n",
      "71. Dallas Cowboys Dak Prescott becomes highest-paid player in NFL history\n",
      "72. World No. 1 Jannik Sinner beats Taylor Fritz to win US Open, extending American men’s tennis grand slam singles drought\n",
      "73. Lyudmyla Kichenok: This tennis player was supposed to be at her wedding. But winning the US Open women’s doubles title changed her plans\n",
      "74. Pharrell’s Joopiter puts on sale of G-Dragon’s prized possessions\n",
      "75. Frequent flyer programs: The most profitable part of the airline industry\n",
      "76. DirecTV files FCC complaint against Disney amid blackout\n",
      "77. Employers in America want to hire more workers. Just not right now\n",
      "78. Boeing reaches deal with union to avoid strike\n",
      "79. Pat Sajak wins Emmy for final season as host of ‘Wheel of Fortune’\n",
      "80. Trump’s claim terrorists are pouring over southern border does not stand up to scrutiny\n",
      "81. Lawmakers return to Washington, DC, with presidential politics looming large\n",
      "82. Bill to address judge shortage faces uphill climb in US House\n",
      "83. Linda Sun: Why it may have taken so long for authorities to act on alleged Chinese agent in New York\n",
      "84. Explosion kills at least 48 people as fuel tanker collides with truck in Nigeria\n",
      "85. Fugitive Filipino preacher wanted by FBI arrested in Philippines weeks after police standoff\n",
      "86. Gonzalez: Venezuelan opposition leader lands in Spain seeking asylum after disputed election\n",
      "87. مصر: تصريحات تأييد \"المساكنة\" تشعل الجدل.. ومحام يطلب تعويضا 100 مليون جنيه بعد إيقافه\n",
      "88. رؤية فلسطينية - إسرائيلية مشتركة لسلام دائم بالشرق الأوسط.. ما الذي يقترحه إيهود أولمرت وناصر القدوة؟\n",
      "89. \"عمل فردي\".. الداخلية الأردنية تعلن نتائج تحقيقاتها بحادث إطلاق النار عند معبر اللنبي واسم المنفذ\n",
      "90. عبدالمجيد تبون يفوز بولاية ثانية في رئاسة الجزائر\n",
      "91. اكتشفه عالم آثار هاوٍ.. العثور على خاتم عمره ألف عام في أسكتلندا\n",
      "92. كأنّه \"فرن\".. \"وادي الموت\" في أمريكا يشهد أحر صيف على الإطلاق\n",
      "93. 800 دولار بالساعة.. ما سبب الكلفة المرتفعة لهذه التجربة السياحية في أوغندا؟\n",
      "94. في أعقاب الزلزال الذي دمر المدينة التركية بشكل \"يفوق الخيال\".. هكذا ستتم إعادة بناء أنطاكيا\n",
      "95. النظرة كافية.. ما سرّ هذه الديناميكية المثيرة التي تربط بين ممرضتين توأم؟\n",
      "96. علماء يعثرون على قطعة من كنز في قاع البحر الأبيض المتوسط..ما هو تاريخ هذا الكبش الحربي الذي يعود تاريخه إلى آلاف السنين؟\n",
      "97. في أمريكا.. الإبلاغ عن أول حالة إصابة بشرية بإنفلونزا الطيور بدون التعرض لحيوان مريض\n",
      "98. يمكن أن يكون قاتلًا صامتًا.. إليك علامات تمدد الأوعية الدموية الدماغي التي يجب الحذر منها\n",
      "99. أب يصنع لابنتيه التوأم \"لعبة الأحلام\" بفناء منزلهم الخلفي.. لن تصدق ما هي\n",
      "100. خلّف 6 مسارح جريمة مختلفة على الأقل.. مشتبه به يجوب الشوارع ويطلق النار عشوائيًا بأمريكا\n",
      "101. في مكة.. مصري يقتل زوجته وحماته والشرطة السعودية تكشف تفاصيل\n",
      "102. أيمن زيدان يتحدث في كلمة مؤثرة عن معنى الشيخوخة بمناسبة تكريمه في المغرب\n",
      "103. العراق يواجه الكويت والصين تستقبل السعودية.. إليك مواعيد مباريات 9 منتخبات عربية في تصفيات مونديال 2026\n",
      "104. لامين يامال يخطف الأنظار بهذه اللقطة من مباراة إسبانيا وسويسرا\n",
      "105. محمد صلاح: \"سيقتلونني\" إذا فعلت هذا الشيء مع ليفربول\n",
      "106. \"نجاحاتكم علامة مضيئة\".. السيسي يهنئ أبطال مصر الحاصلين على ميداليات بارالمبية في باريس 2024\n",
      "107. Three Israeli civilians shot dead at Allenby Crossing between West Bank and Jordan\n",
      "108. Gonzalez: Venezuelan opposition leader lands in Spain seeking asylum after disputed election\n",
      "109. Suspect in I-75 shootings eludes law enforcement for a second night in rural Kentucky\n",
      "110. Line Fire: Residents flee as California and Nevada wildfires grow and forecasters warn of record heat this week\n",
      "111. Ukraine’s military is struggling with low morale and desertion\n",
      "112. Fugitive Filipino preacher wanted by FBI arrested in Philippines weeks after police standoff\n",
      "113. Harris prepares for the showdown she’s long sought with Trump as he takes more informal approach\n",
      "114. Trump threatens prosecution of 2024 election officials who ‘cheated’ if he wins presidency\n",
      "115. Five killed, 19 injured in Israeli airstrikes, Syrian state news agency claims\n",
      "116. Linda Sun: Why it may have taken so long for authorities to act on alleged Chinese agent in New York\n",
      "117. Typhoon Yagi kills dozens in Vietnam, China, Philippines\n",
      "118. Afghanistan withdrawal: House Republicans and Democrats to issue dueling documents casting blame for mistakes made in US withdrawal\n",
      "119. Video: Buttigieg says Harris will need ‘superhuman focus’ while debating Trump\n",
      "120. ‘We’re gonna be fine’: Harris embraces crying woman while campaigning\n",
      "121. Tyreek Hill: Miami-Dade police officer placed on administrative duty after Dolphins star detained before game\n",
      "122. Video: Tyreek Hill speaks out about being handcuffed by police\n",
      "123. Explosion kills at least 48 people as fuel tanker collides with truck in Nigeria\n",
      "124. World No. 1 Jannik Sinner beats Taylor Fritz to win US Open, extending American men’s tennis grand slam singles drought\n",
      "125. Video: Pope flies to remote area of Papua New Guinea determined to show solidarity\n",
      "126. Potential Tropical Cyclone Six forms in Gulf of Mexico\n",
      "127. Why people are taking photos of their airport trays now\n",
      "128. Lyudmyla Kichenok: This tennis player was supposed to be at her wedding. But winning the US Open women’s doubles title changed her plans\n",
      "129. The controversial plan to regreen a desert\n",
      "130. Taylor Swift and Travis Kelce serve couple goals at the US Open final\n",
      "131. Kendrick Lamar to headline 2025 Super Bowl halftime show\n",
      "132. Watch: Video shows California wildfires that are forcing evacuations\n",
      "133. Pharrell’s Joopiter puts on sale of G-Dragon’s prized possessions\n",
      "134. Ali Truwit: Reentering the pool caused ‘flashbacks’ to shark attack in which she lost her leg. Now this US swimmer has two Paralympic medals\n",
      "135. Why the taste of these donuts is important to the US army\n",
      "136. Dallas Cowboys Dak Prescott becomes highest-paid player in NFL history\n",
      "137. Inside Kamala Harris’ yearslong crash course in foreign diplomacy\n",
      "138. Trump’s claim terrorists are pouring over southern border does not stand up to scrutiny\n",
      "139. Última hora de la salida de Edmundo González de Venezuela y asilo político en España: reacciones, noticias y más\n",
      "140. La NFL anuncia que Kendrick Lamar será el artista en el medio tiempo del Super Bowl LIX\n",
      "141. Jannik Sinner vence a Taylor Fritz y se convierte en el primer hombre italiano que gana el US Open individual\n",
      "142. Superados en armas y en número, el ejército de Ucrania lucha con baja moral y sufriendo deserciones\n",
      "143. Apple Keynote de presentación del iPhone 16: qué esperar, a qué hora y cómo ver en vivo\n",
      "144. María Corina Machado dijo que el líder opositor Edmundo González ya se encuentra en España\n",
      "145. Máximo diplomático de la Unión Europea califica de \"día triste para la democracia\" la salida de Edmundo González de Venezuela hacia España\n",
      "146. Salida de Edmundo González a España obedeció a \"decisiones de urgencia\" para preservar su vida y su libertad, dice su abogado a CNN\n",
      "147. Se forma el potencial ciclón tropical seis en el Golfo y emiten alerta de tormenta tropical para México\n",
      "148. La madre del sospechoso del tiroteo llamó a la escuela secundaria Apalachee y condujo 320 km después de recibir un mensaje alarmante, dice el abuelo\n",
      "149. Este plan controversial busca convertir un desierto en tierra verde y fértil\n",
      "150. Ucrania prueba una nueva arma que puede hacer “llover metal fundido” sobre unidades rusas\n",
      "151. Así quedó el medallero de los atletas latinoamericanos en los Juegos Paralímpicos de París 2024\n",
      "152. José Mujica se somete a operación para colocarle sonda de alimentación, informa su médica\n",
      "153. Dak Prescott, de los Dallas Cowboys, se convierte en el jugador mejor pagado en la historia de la NFL\n",
      "154. Aryna Sabalenka: Sentí el amor de la gente en Nueva York\n",
      "155. Este ajedrecista argentino de ocho años es el número uno del mundo en su categoría\n",
      "156. Abogado de González Urrutia explica en exclusiva a CNN por qué optaron por el asilo político en España\n",
      "157. ¿Cómo reconocer un video creado por inteligencia artificial? Experto explica las pistas que lo delatan\n",
      "158. Edmundo González Urrutia ya está en Madrid en compañía de su esposa\n",
      "159. Primer Día del 988, la línea para prevención de suicidios o de crisis en EE.UU.\n",
      "160. Miles de personas huyen mientras se acercan peligrosamente los incendios forestales de California y Nevada en medio de advertencias de calor récord\n",
      "161. La afirmación de Trump de que los terroristas están invadiendo la frontera sur no resiste el escrutinio\n",
      "162. 'Todavía me tiemblan las manos': Dos conductores detallan tiroteo en la Interestatal 75 en el condado de Laurel\n",
      "163. Fiscal general de Venezuela dice que caso contra González será cerrado tras su salida del país\n",
      "164. Haro: Edmundo González no ha aceptado los resultados del CNE\n",
      "165. González Urrutia sorprendió tras su llegada a España al no ser percibido\n",
      "166. William Saab niega que Corina Machado sea la cara de la oposición\n",
      "167. Tarek William Saab habla con CNN tras salida de Edmundo González Urrutia\n",
      "168. La situación en Venezuela tras la salida de Edmundo González a España\n",
      "169. Edmundo González dejó Venezuela por hostigamiento, dice Antonio Ledezma\n",
      "170. ¿Por qué Argentina aumenta su gasto en Defensa?\n",
      "171. Interrupciones masivas en trenes dejan a cientos de personas varadas en Alemania\n",
      "172. Tres guardias fronterizos israelíes muertos a tiros en el cruce de Allenby entre la Ribera Occidental y Jordania\n",
      "173. El papa Francisco concluye su primer día en Papúa Nueva Guinea con el foco puesto en las comunidades marginadas\n",
      "174. OPINIÓN | El mundo según Pedro Almodóvar\n",
      "175. El análisis de la ceremonia de clausura de los Juegos Paralímpicos París 2024\n",
      "176. Esta tenista asistiría a su boda, pero ganar el título de dobles femenino del US Open cambió sus planes\n",
      "177. La gente está molesta con la Generación Z por tomar fotos de las bandejas de seguridad del aeropuerto. Esto es lo que realmente está pasando\n"
     ]
    }
   ],
   "source": [
    "import newspaper\n",
    "from datetime import datetime\n",
    "\n",
    "# Define the URL of the news website\n",
    "news_source = newspaper.build('https://www.cnn.com', memoize_articles=False)\n",
    "\n",
    "# Get the current date\n",
    "today = datetime.now().date()\n",
    "\n",
    "# List to hold today's articles\n",
    "todays_articles = []\n",
    "\n",
    "# Loop through the articles and check their publish date\n",
    "for article in news_source.articles:\n",
    "    try:\n",
    "        article.download()\n",
    "        article.parse()\n",
    "\n",
    "        # Check if the article has a publish date\n",
    "        if article.publish_date:\n",
    "            article_date = article.publish_date.date()\n",
    "\n",
    "            # Compare with today's date\n",
    "            if article_date == today:\n",
    "                todays_articles.append(article.title)\n",
    "    except Exception as e:\n",
    "        print(f\"Error processing article: {e}\")\n",
    "\n",
    "# Output today's articles\n",
    "if todays_articles:\n",
    "    print(\"Today's articles:\")\n",
    "    for idx, article_title in enumerate(todays_articles, 1):\n",
    "        print(f\"{idx}. {article_title}\")\n",
    "else:\n",
    "    print(\"No articles found for today.\")\n"
   ]
  },
  {
   "cell_type": "code",
   "execution_count": 7,
   "metadata": {},
   "outputs": [
    {
     "name": "stdout",
     "output_type": "stream",
     "text": [
      "Fortnite Battle Royale\n"
     ]
    },
    {
     "data": {
      "text/markdown": [
       "Fortnite Battle Royale is a free-to-play battle royale video game developed and published by Epic Games. It is a companion game to Fortnite: Save the World, a cooperative survival game with construction elements. It was initially released in early access on September 26, 2017, for macOS, PlayStation 4, Windows, and Xbox One, followed by ports for iOS, Nintendo Switch, and Android. Epic dropped the early access label for the game on June 29, 2020. Versions for the Xbox Series X/S and PlayStation 5 were released as launch titles in late 2020.\n",
       "The concept of the game is similar to previous games of the genre: 100 players skydive onto an island and scavenge for gear to defend themselves from other players. Players can fight alone, or with up to three other players. As the match progresses, the playable area within the island gradually constricts, giving the players less and less room to work with; outside this safe zone is \"the Storm\", which inflicts damage on those caught inside it, with the amount of damage growing as the Storm itself does. The last player or team alive wins the match. The main distinction from others in the genre is the game's construction elements, letting players build walls, which can be later edited, obstacles, and other structures from collected resources to take cover from incoming fire or give one a strategic view advantage. Battle Royale uses a seasonal approach with battle passes to introduce new character customization content in the game, as well as limited-time events, some of which correspond with changes to the game map. Since its initial release, several other game modes have been introduced, including \"Battle Lab\" and \"Party Royale\".\n",
       "The idea for Battle Royale arose following the release of PlayerUnknown's Battlegrounds in 2017, a similar battle royale game that was highly successful but noted for its technical flaws. Originally released as part of the early access version of Save the World, Epic later transitioned the game to a free-to-play model funded by microtransactions. Following its rise in popularity, Epic split the development team, with one focusing on Battle Royale and the other on Save the World.\n",
       "Battle Royale received positive reviews from critics, who praised its learning curve, gameplay, art style, multiplayer and progression system, while receiving criticism regarding parental and security concerns. The game quickly rose in popularity following its release, eventually surpassing Battlegrounds in overall player count and revenue. Player count had exceeded 350 million by May 2020. The game has gone on to become a cultural phenomenon, with promotion through social media and several celebrities, such as Ninja, Marshmello, and Drake, contributing to the game's popularity, achieving record-high viewership on streaming platforms in the process."
      ],
      "text/plain": [
       "<IPython.core.display.Markdown object>"
      ]
     },
     "metadata": {},
     "output_type": "display_data"
    },
    {
     "name": "stdout",
     "output_type": "stream",
     "text": [
      "Lethal Company\n"
     ]
    },
    {
     "data": {
      "text/markdown": [
       "Lethal Company is an upcoming cooperative survival horror video game developed and published by Zeekerss. It was released in early access in October 2023 and gained popularity on the Steam storefront.\n",
       "In Lethal Company, players obtain and sell scrap from abandoned, industrialized exomoons while avoiding traps, environmental hazards, monsters, and the hostile fauna. As employees of \"The Company\", players must sell enough scrap to meet a series of increasing profit quotas until they inevitably fail and the game starts over."
      ],
      "text/plain": [
       "<IPython.core.display.Markdown object>"
      ]
     },
     "metadata": {},
     "output_type": "display_data"
    },
    {
     "name": "stdout",
     "output_type": "stream",
     "text": [
      "JavaScript\n"
     ]
    },
    {
     "data": {
      "text/markdown": [
       "JavaScript (), often abbreviated as JS, is a programming language and core technology of the Web, alongside HTML and CSS. 99% of websites use JavaScript on the client side for webpage behavior.\n",
       "Web browsers have a dedicated JavaScript engine that executes the client code. These engines are also utilized in some servers and a variety of apps. The most popular runtime system for non-browser usage is Node.js.\n",
       "JavaScript is a high-level, often just-in-time compiled language that conforms to the ECMAScript standard. It has dynamic typing, prototype-based object-orientation, and first-class functions. It is multi-paradigm, supporting event-driven, functional, and imperative programming styles. It has application programming interfaces (APIs) for working with text, dates, regular expressions, standard data structures, and the Document Object Model (DOM).\n",
       "The ECMAScript standard does not include any input/output (I/O), such as networking, storage, or graphics facilities. In practice, the web browser or other runtime system provides JavaScript APIs for I/O.\n",
       "Although Java and JavaScript are similar in name, syntax, and respective standard libraries, the two languages are distinct and differ greatly in design.\n",
       "\n"
      ],
      "text/plain": [
       "<IPython.core.display.Markdown object>"
      ]
     },
     "metadata": {},
     "output_type": "display_data"
    },
    {
     "name": "stdout",
     "output_type": "stream",
     "text": [
      "భారతదేశం 142 కోట్లకు పైగా జనాభాతో ప్రపంచంలో మొదటి స్థానంలో, 32,87,263 చ.కి.మీ విస్తీర్ణంతో వైశాల్యంలో ఏడవస్థానంలో ఉన్న అతి పెద్ద స్వేచ్ఛాయుత ప్రజాస్వామ్య దేశం. ఈ దేశం 29 రాష్ట్రాలు, 8 కేంద్రపాలిత ప్రాంతాలు కలిగి, పార్లమెంటరీ వ్యవస్థ పాలన ఉన్న ఒక సమాఖ్య. ఎక్కువ సైనిక సామర్థ్యం కలిగి ఉన్న దేశాలలో ఒకటిగా, అణ్వస్త్ర సామర్థ్యం కలిగిన దేశాలలో ఒక ముఖ్యమైన ప్రాంతీయ శక్తిగా ఉంది. దక్షణాసియాలో ఏడు వేల కిలోమీటర్లకు పైగా సముద్రతీరము కలిగి ఉండి, భారత ఉపఖండములో అధిక భాగాన్ని కూడుకొని ఉన్న భారతదేశం, అనేక చారిత్రక వాణిజ్య రహదారులను కలిగి ఉంది. ఉత్తరాన హిమాలయాలు, దక్షిణాన హిందూ మహాసముద్రం, పశ్చిమాన అరేబియా సముద్రం, తూర్పున బంగాళాఖాతం ఎల్లలుగా ఉన్నాయి. పాకిస్తాన్, చైనా, మయన్మార్, బంగ్లాదేశ్, నేపాల్, భూటాన్, ఆఫ్ఘానిస్తాన్ దేశాలతో సరిహద్దులను పంచుకుంటోంది. శ్రీలంక, మాల్దీవులు, ఇండోనేసియా భారతదేశం దగ్గరలో గల ద్వీప-దేశాలు. ఇది సింధు లోయ నాగరికతకు పుట్టిల్లు. హిందూ, బౌద్ధ, జైన, సిక్కు మతములకు జన్మనిచ్చింది. ఇది బహుభాషా, బహుళ జాతి సంఘము. ఇది వివిధ వన్యప్రాణుల వైవిధ్యం గల దేశం. జనాభాలో భారతదేశం 2023 ఏప్రిల్ లో చైనాను దాటేసింది.\n",
      "మౌర్య సామ్రాజ్య కాలంలో ప్రస్తుత సరిహద్దులలో కొద్దిభాగం మినహాయించి, సరిహద్దులు దాటిన ప్రాంతాలతో పాటు ఒకే చక్రవర్తి పాలనలో వున్నా, తదుపరి పలు చిన్న రాజ్యాలుగా విడిపోయింది. 18 వ శతాబ్దం నుండి బ్రిటిష్ ఈస్ట్ ఇండియా కంపెనీ క్రమంగా ఈ రాజ్యాలను స్వాధీనం చేసుకోవడంతో బ్రిటీష్ కంపెనీ పరిపాలన కిందకు వచ్చింది. 19 వ శతాబ్దం మధ్య నుండి నేరుగా యునైటెడ్ కింగ్డమ్ పాలనలోకి వచ్చింది. మహాత్మా గాంధీ నాయకత్వాన స్వాతంత్ర్యం కోసం జరిగిన అహింసాయుత పోరాటం తర్వాత 1947 లో ఒక స్వతంత్ర దేశంగా ఆవిర్భవించింది.\n",
      "1991 లో మార్కెట్ ఆధారిత ఆర్థిక సంస్కరణలు అనుసరిస్తూ, భారతదేశం వేగంగా అభివృద్ధి చెందుతున్న ప్రధాన ఆర్థిక దేశాలలో ఒకటి అయింది. అయితే, పేదరికం, నిరక్షరాస్యత, అవినీతి, పోషకాహార లోపం వంటి సవాళ్లను ఎదుర్కొంటున్నది.\n"
     ]
    }
   ],
   "source": [
    "import wikipedia \n",
    "from IPython.display import display, Markdown # add for Jupyter\n",
    "\n",
    "wikipedia.set_lang('en')\n",
    "user_request = input()\n",
    "\n",
    "terms = [\"Fortnite Battle Royale\", \"Lethal Company\", wikipedia.search(user_request)[0]]\n",
    "for term in terms:\n",
    "    # Search for a page \n",
    "    result = wikipedia.search(term)\n",
    "\n",
    "\n",
    "    summary = wikipedia.summary(result[0])\n",
    "    print(term) \n",
    "\n",
    "    display(Markdown(summary))\n",
    "\n",
    "wikipedia.set_lang(\"te\") \n",
    "# printing the summary\n",
    "print(wikipedia.summary(\"India\"))\n"
   ]
  },
  {
   "cell_type": "code",
   "execution_count": null,
   "metadata": {},
   "outputs": [
    {
     "name": "stdout",
     "output_type": "stream",
     "text": [
      "Print test data: 100\n",
      "Mean of single number: 100\n",
      "\n",
      "Print test data: [90.5, 100, 85.4, 88]\n",
      "Average score, loop method: 90.98\n",
      "Average score, function method: 90.98\n",
      "\n",
      "Print test data: [100, 'NaN', 90]\n",
      "Bad data: NaN in [100, 'NaN', 90]\n"
     ]
    },
    {
     "ename": "SystemExit",
     "evalue": "",
     "output_type": "error",
     "traceback": [
      "An exception has occurred, use %tb to see the full traceback.\n",
      "\u001b[0;31mSystemExit\u001b[0m\n"
     ]
    },
    {
     "name": "stderr",
     "output_type": "stream",
     "text": [
      "/Users/Akhil/vscode/akhil_2025/venv/lib/python3.11/site-packages/IPython/core/interactiveshell.py:3585: UserWarning: To exit: use 'exit', 'quit', or Ctrl-D.\n",
      "  warn(\"To exit: use 'exit', 'quit', or Ctrl-D.\", stacklevel=1)\n"
     ]
    }
   ],
   "source": [
    "import sys\n",
    "from typing import Union\n",
    "\n",
    "# Define types for mean function, trying to analyze input possibilities\n",
    "Number = Union[int, float]  # Number can be either int or float type\n",
    "Numbers = list[Number] # Numbers is a list of Number types\n",
    "Scores = Union[1, 13, 25] # Scores can be single or multiple \n",
    "\n",
    "def mean(scores: Scores, method: int = 1) -> float:\n",
    "    \"\"\"\n",
    "    Calculate the mean of a list of scores.\n",
    "    \n",
    "    Average and Average2 are hidden functions performing mean algorithm\n",
    "\n",
    "    If a single score is provided in scores, it is returned as the mean.\n",
    "    If a list of scores is provided, the average is calculated and returned.\n",
    "    \"\"\"\n",
    "    \n",
    "    def average(scores): \n",
    "        \"\"\"Calculate the average of a list of scores using a Python for loop with rounding.\"\"\"\n",
    "        sum = 0\n",
    "        len = 0\n",
    "        for score in scores:\n",
    "            if isinstance(score, Number):\n",
    "                sum += score\n",
    "                len += 1\n",
    "            else:\n",
    "                print(\"Bad data: \" + str(score) + \" in \" + str(scores))\n",
    "                sys.exit()\n",
    "        return sum / len\n",
    "    \n",
    "    def average2(scores):\n",
    "        \"\"\"Calculate the average of a list of scores using the built-in sum() function with rounding.\"\"\"\n",
    "        return sum(scores) / len(scores)\n",
    "\n",
    "    # test to see if scores is  a list of numbers\n",
    "    if isinstance(scores, list):\n",
    "        if method == 1:  \n",
    "            # long method\n",
    "            result = average(scores)\n",
    "        else:\n",
    "            # built in method\n",
    "            result = average2(scores)\n",
    "        return round(result + 0.005, 2)\n",
    "    \n",
    "    return scores # case where scores is a single valu\n",
    "\n",
    "# try with one number\n",
    "singleScore = 100\n",
    "print(\"Print test data: \" + str(singleScore))  # concat data for single line\n",
    "print(\"Mean of single number: \" + str(mean(singleScore)))\n",
    "\n",
    "print()\n",
    "\n",
    "# define a list of numbers\n",
    "testScores = [90.5, 100, 85.4, 88]\n",
    "print(\"Print test data: \" + str(testScores))\n",
    "print(\"Average score, loop method: \" + str(mean(testScores)))\n",
    "print(\"Average score, function method: \" +  str(mean(testScores, 2)))\n",
    "\n",
    "print()\n",
    "\n",
    "badData = [100, \"NaN\", 90]\n",
    "print(\"Print test data: \" + str(badData))\n",
    "print(\"Mean with bad data: \" + str(mean(badData)))"
   ]
  }
 ],
 "metadata": {
  "kernelspec": {
   "display_name": "venv",
   "language": "python",
   "name": "python3"
  },
  "language_info": {
   "codemirror_mode": {
    "name": "ipython",
    "version": 3
   },
   "file_extension": ".py",
   "mimetype": "text/x-python",
   "name": "python",
   "nbconvert_exporter": "python",
   "pygments_lexer": "ipython3",
   "version": "3.11.5"
  },
  "orig_nbformat": 4
 },
 "nbformat": 4,
 "nbformat_minor": 2
}
