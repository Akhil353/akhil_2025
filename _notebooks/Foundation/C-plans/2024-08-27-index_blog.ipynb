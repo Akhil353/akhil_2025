{
 "cells": [
  {
   "cell_type": "markdown",
   "metadata": {},
   "source": [
    "---\n",
    "layout: post\n",
    "title:  Index Page struggles\n",
    "description: Blogging about the challenges I faced while modifying index.md\n",
    "categories: [JavaScript]\n",
    "permalink: /javascript\n",
    "menu: nav/tools_setup.html\n",
    "toc: true\n",
    "comments: true\n",
    "---"
   ]
  },
  {
   "cell_type": "markdown",
   "metadata": {},
   "source": [
    "# Challenges\n",
    "\n",
    "### Naming Convention\n",
    "  - Problem\n",
    "    - While I was trying to change the background header colors, I realized that I needed to use the term background-image to access the header colors. This would give an error with my code, however, as the dash makes the javascript interperet the whole item in a way that would give an error. \n",
    "  - Solution\n",
    "    - To fix this error, I consulted ChatGPT, which advised me to use a different command entirely. By doing this, I was able to avoid the issue altogether as I didn't have to use the -. \n",
    "\n",
    "### CSS Importance\n",
    "  - Problem\n",
    "    - Even after I changed the header colors, nothing would happen with the header color. After debugging, I found out that there was no error in the code. This means that nothing in the page was wrong, so the problem was elsewhere. After searching up the issue, I found out that there is an importance level to certain CSS styles. Since the color I was changing was being used primarily in another file, I had to set importance to index.md.\n",
    "  - Solution\n",
    "    - By adding the term !important to the CSS, I was able to establish priority to the CSS on index.md"
   ]
  }
 ],
 "metadata": {
  "language_info": {
   "name": "python"
  },
  "orig_nbformat": 4
 },
 "nbformat": 4,
 "nbformat_minor": 2
}
