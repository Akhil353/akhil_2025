{
 "cells": [
  {
   "cell_type": "markdown",
   "metadata": {},
   "source": [
    "---\n",
    "layout: post\n",
    "title:  Javascript Ideation\n",
    "description: Ideation for the Javascript Hacks\n",
    "categories: [JavaScript]\n",
    "permalink: /javascriptideation\n",
    "toc: true\n",
    "comments: true\n",
    "---"
   ]
  },
  {
   "cell_type": "markdown",
   "metadata": {},
   "source": [
    "# Idea\n",
    "Perform some sort of action that changes the homepage (dynamic content)\n",
    "  - Background change\n",
    "  - Popup for the user\n",
    "  - Header change\n",
    "  - etc.\n",
    "\n",
    "# Execution\n",
    "Split into 3 parts\n",
    "  - CSS\n",
    "    - Has the design for the button to change the homepage\n",
    "  - HTML\n",
    "    - Frontend display\n",
    "    - Show the button to change the frontend\n",
    "  - JS\n",
    "    - \"Brains\"\n",
    "    - Performs the action and sends it to HTML"
   ]
  }
 ],
 "metadata": {
  "language_info": {
   "name": "python"
  },
  "orig_nbformat": 4
 },
 "nbformat": 4,
 "nbformat_minor": 2
}
