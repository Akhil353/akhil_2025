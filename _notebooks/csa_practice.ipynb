{
 "cells": [
  {
   "cell_type": "code",
   "execution_count": 15,
   "metadata": {
    "vscode": {
     "languageId": "java"
    }
   },
   "outputs": [
    {
     "name": "stdout",
     "output_type": "stream",
     "text": [
      "true\n",
      "false\n",
      "\n",
      "\n",
      "\n",
      "true\n",
      "false\n"
     ]
    },
    {
     "name": "stdout",
     "output_type": "stream",
     "text": [
      "true\n",
      "\n",
      "\n",
      "\n",
      "true\n",
      "true\n"
     ]
    }
   ],
   "source": [
    "String s1 = new String(\"hi\");\n",
    "String s2 = new String(\"hi there\").substring(0,2);\n",
    "Integer i1 = new Integer(10);\n",
    "Integer i2 = new Integer(10);\n",
    "\n",
    "System.out.println(s1.equals(s2)); //true\n",
    "System.out.println(s1 == s2); //false\n",
    "\n",
    "System.out.println(\"\\n\\n\");\n",
    "\n",
    "System.out.println(i1.equals(i2)); //true\n",
    "System.out.println(i1 == i2); //false\n",
    "System.out.println(i1.intValue() == i2.intValue()); //true\n",
    "\n",
    "System.out.println(\"\\n\\n\");\n",
    "\n",
    "int i3 = 10;\n",
    "int i4 = 10;\n",
    "\n",
    "System.out.println(i3==i4);\n",
    "\n",
    "\n",
    "String null1;\n",
    "\n",
    "System.out.println(null1 == null);\n"
   ]
  },
  {
   "cell_type": "code",
   "execution_count": 78,
   "metadata": {
    "vscode": {
     "languageId": "java"
    }
   },
   "outputs": [
    {
     "name": "stdout",
     "output_type": "stream",
     "text": [
      "Hello1abc\n",
      "Hello2123\n",
      "Hello2456\n",
      "0\n",
      "0\n",
      "0\n"
     ]
    }
   ],
   "source": [
    "public class Test {\n",
    "    private String test;\n",
    "\n",
    "    public Test(String rand){\n",
    "        test = rand;\n",
    "    }\n",
    "\n",
    "    public String output() {\n",
    "        return test + \"abc\";\n",
    "    }\n",
    "\n",
    "    public String output2() {\n",
    "        return test + \"def\";\n",
    "    }\n",
    "\n",
    "    public int output3() {\n",
    "        return 0;\n",
    "    }\n",
    "}\n",
    "\n",
    "class Test2 extends Test {\n",
    "    private String test;\n",
    "    private static int random2 = 0;\n",
    "\n",
    "    public Test2(String rand) {\n",
    "        super(rand); // Call superclass constructor\n",
    "        this.test = rand; // But this hides superclass 'test'\n",
    "        random2 += 1;\n",
    "    }\n",
    "\n",
    "    public String output() {\n",
    "        return test + \"123\"; // Refers to Test2's test, not superclass\n",
    "    }\n",
    "\n",
    "    public String output2() {\n",
    "        return test + \"456\";\n",
    "    }\n",
    "}\n",
    "\n",
    "\n",
    "class Test3 extends Test2 {\n",
    "    private String test;\n",
    "    private static int random2 = 0;\n",
    "\n",
    "    public Test3(String rand) {\n",
    "        super(rand); // Call superclass constructor\n",
    "        this.test = rand; // But this hides superclass 'test'\n",
    "        random2 += 1;\n",
    "    }\n",
    "\n",
    "    public String output() {\n",
    "        return test + \"123\"; // Refers to Test2's test, not superclass\n",
    "    }\n",
    "\n",
    "    public String output2() {\n",
    "        return test + \"456\";\n",
    "    }\n",
    "}\n",
    "\n",
    "public class Main {\n",
    "    public static void main(String[] args) {\n",
    "        Test item1 = new Test(\"Hello1\");\n",
    "        Test item2 = new Test2(\"Hello2\");\n",
    "        Test item3 = new Test3(\"Hello3\");\n",
    "        Test3 item4 = new Test3(\"Hello4\");\n",
    "\n",
    "        System.out.println(item1.output()); \n",
    "        System.out.println(item2.output()); \n",
    "        System.out.println(item2.output2());\n",
    "        System.out.println(item2.output3());\n",
    "        System.out.println(item3.output3());\n",
    "        System.out.println(item4.output3());\n",
    "    }\n",
    "}\n",
    "\n",
    "Main.main(null);\n",
    "\n"
   ]
  },
  {
   "cell_type": "code",
   "execution_count": 75,
   "metadata": {
    "vscode": {
     "languageId": "java"
    }
   },
   "outputs": [
    {
     "name": "stdout",
     "output_type": "stream",
     "text": [
      "2\n",
      "35"
     ]
    }
   ],
   "source": [
    "System.out.println((int) (5.0/2));\n",
    "System.out.print(\"3\");\n",
    "System.out.print(\"5\");"
   ]
  },
  {
   "cell_type": "code",
   "execution_count": null,
   "metadata": {
    "vscode": {
     "languageId": "java"
    }
   },
   "outputs": [],
   "source": []
  }
 ],
 "metadata": {
  "kernelspec": {
   "display_name": "Java",
   "language": "java",
   "name": "java"
  },
  "language_info": {
   "codemirror_mode": "java",
   "file_extension": ".jshell",
   "mimetype": "text/x-java-source",
   "name": "Java",
   "pygments_lexer": "java",
   "version": "17.0.11+7-LTS-207"
  },
  "orig_nbformat": 4
 },
 "nbformat": 4,
 "nbformat_minor": 2
}
