{
 "cells": [
  {
   "cell_type": "markdown",
   "metadata": {},
   "source": [
    "---\n",
    "layout: post\n",
    "toc: true\n",
    "title: Array/Homework\n",
    "description: AP CSA FRQ Array/Arraylist Homework\n",
    "courses: { csa: {week: 1} }\n",
    "type: ccc\n",
    "categories: [AP CSA]\n",
    "menu: nav/student_toolkit/P3CSATeamTeach/array.html\n",
    "permalink: /teamteach/array/homework\n",
    "---"
   ]
  },
  {
   "cell_type": "markdown",
   "metadata": {},
   "source": [
    "# Homework\n",
    "\n",
    "Write a program that randomly fills in 0s and 1s into an n-by-n matrix, prints the matrix, and finds the rows and columns with the most 1s. (Hint: Use two ArrayLists to store the row and column indices with the most 1s.) \n",
    "\n",
    "Here is a sample run of the program, printed in the console: \n",
    "```\n",
    "Enter the array size n: 4\n",
    "The random array is\n",
    "0011\n",
    "0011\n",
    "1101\n",
    "1010\n",
    "The largest row index: 2\n",
    "The largest column index: 2, 3 \n",
    "```"
   ]
  },
  {
   "cell_type": "code",
   "execution_count": 26,
   "metadata": {
    "vscode": {
     "languageId": "java"
    }
   },
   "outputs": [
    {
     "name": "stdout",
     "output_type": "stream",
     "text": [
      "Enter the size of the table (n):\n"
     ]
    },
    {
     "name": "stdout",
     "output_type": "stream",
     "text": [
      "Generated Table:\n",
      "[1, 1, 1, 0]\n",
      "[0, 0, 0, 1]\n",
      "[0, 0, 1, 1]\n",
      "[1, 1, 1, 1]\n",
      "Max Rows: [3]\n",
      "Max Columns: [2, 3]\n"
     ]
    }
   ],
   "source": [
    "import java.util.ArrayList;\n",
    "import java.util.Scanner;\n",
    "\n",
    "\n",
    "public static void main(String[] args) {\n",
    "    Scanner myObj = new Scanner(System.in);\n",
    "    System.out.println(\"Enter the size of the table (n):\");\n",
    "\n",
    "    int n = myObj.nextInt();\n",
    "    ArrayList<ArrayList<Integer>> table = new ArrayList<>();\n",
    "\n",
    "\n",
    "    for (int i = 0; i < n; i++) {\n",
    "        table.add(new ArrayList<>());\n",
    "        for (int j = 0; j < n; j++) {\n",
    "            table.get(i).add(0);\n",
    "        }\n",
    "    }\n",
    "\n",
    "    for (int i = 0; i < n; i++) {\n",
    "        for (int j = 0; j < n; j++) {\n",
    "            double doubleRandomNumber = Math.random() * 2;\n",
    "            int randomNumber = (int) doubleRandomNumber;\n",
    "            table.get(i).set(j, randomNumber);\n",
    "        }\n",
    "    }\n",
    "\n",
    "    System.out.println(\"Generated Table:\");\n",
    "    for (int i = 0; i < n; i++) {\n",
    "        System.out.println(table.get(i));\n",
    "    }\n",
    "\n",
    "    int maxRows = 0;\n",
    "    ArrayList<Integer> rows = new ArrayList<>();\n",
    "    for (int i = 0; i < n; i++) {\n",
    "        int temp = 0;\n",
    "        for (int j = 0; j < n; j++) {\n",
    "            if (table.get(i).get(j) == 1) {\n",
    "                temp += 1;\n",
    "            }\n",
    "        }\n",
    "        if (temp > maxRows) {\n",
    "            maxRows = temp;\n",
    "            rows.clear();\n",
    "            rows.add(i);\n",
    "        }\n",
    "        else if (temp == maxRows) {\n",
    "            rows.add(i);\n",
    "        }\n",
    "        temp = 0;\n",
    "    }\n",
    "\n",
    "\n",
    "    int maxCols = 0;\n",
    "    ArrayList<Integer> cols = new ArrayList<>();\n",
    "    for (int j = 0; j < n; j++) {\n",
    "        int temp = 0;\n",
    "        for (int i = 0; i < n; i++) {\n",
    "            if (table.get(i).get(j) == 1) {\n",
    "                temp += 1;\n",
    "            }\n",
    "        }\n",
    "        if (temp > maxCols) {\n",
    "            maxCols = temp;\n",
    "            cols.clear();\n",
    "            cols.add(j);\n",
    "        }\n",
    "        else if (temp == maxCols) {\n",
    "            cols.add(j);\n",
    "        }\n",
    "        temp = 0;\n",
    "    }\n",
    "\n",
    "    System.out.println(\"Max Rows: \" + rows.toString());\n",
    "    System.out.println(\"Max Columns: \" + cols.toString());\n",
    "    myObj.close();\n",
    "}\n",
    "\n",
    "main(null);\n",
    "\n"
   ]
  }
 ],
 "metadata": {
  "kernelspec": {
   "display_name": "Java",
   "language": "java",
   "name": "java"
  },
  "language_info": {
   "codemirror_mode": "java",
   "file_extension": ".jshell",
   "mimetype": "text/x-java-source",
   "name": "Java",
   "pygments_lexer": "java",
   "version": "17.0.11+7-LTS-207"
  }
 },
 "nbformat": 4,
 "nbformat_minor": 2
}
