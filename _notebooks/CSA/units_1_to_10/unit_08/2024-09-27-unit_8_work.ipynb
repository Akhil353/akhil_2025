{
 "cells": [
  {
   "cell_type": "markdown",
   "metadata": {},
   "source": [
    "# Popcorn Hack 1"
   ]
  },
  {
   "cell_type": "code",
   "execution_count": null,
   "metadata": {
    "vscode": {
     "languageId": "java"
    }
   },
   "outputs": [],
   "source": [
    "int[][] exampleArray = {\n",
    "    {\"Hello\", \"World\"},\n",
    "    {\"Java\", \"Array\"}\n",
    "};\n",
    "\n",
    "// The type of the array is wrong"
   ]
  },
  {
   "cell_type": "markdown",
   "metadata": {},
   "source": [
    "# Popcorn Hack 2"
   ]
  },
  {
   "cell_type": "code",
   "execution_count": null,
   "metadata": {
    "vscode": {
     "languageId": "java"
    }
   },
   "outputs": [],
   "source": [
    "int[][] matrix = new int[2][3];\n",
    "\n",
    "// You can store 6 variables because there are 2 arrays with three numbers each, so 2*3 = 6"
   ]
  },
  {
   "cell_type": "markdown",
   "metadata": {},
   "source": [
    "# Popcorn Hack 3\n",
    "\n",
    "\n",
    "<img src=\"https://github.com/user-attachments/assets/4bae6ef7-dee0-4b6f-ba92-bd05af8fa84d\" alt=\"Image 1\">\n",
    "\n",
    "How would you write the code to access the last score? MC\n",
    "- A. grades[6][3]\n",
    "- B. grades[7][4]\n",
    "- C. grades[grades.length - 1] [grades[0].length - 1]\n",
    "- D. A and C\n",
    "\n",
    "The answer is D since both A and C get the 7th array and the 4th item, which is 93"
   ]
  },
  {
   "cell_type": "markdown",
   "metadata": {},
   "source": [
    "# Popcorn Hack 4"
   ]
  },
  {
   "cell_type": "code",
   "execution_count": 1,
   "metadata": {
    "vscode": {
     "languageId": "java"
    }
   },
   "outputs": [
    {
     "name": "stdout",
     "output_type": "stream",
     "text": [
      "[[Hello, How are you], [I'm good, And you?]]\n"
     ]
    }
   ],
   "source": [
    "public class ArrayPractice {\n",
    "    public static void main(String[] args) {\n",
    "        String[][] array = {\n",
    "    {\"Hello\", \"How are you\"},\n",
    "    {\"I'm good\", \"And you?\"}\n",
    "};\n",
    "\n",
    "        System.out.println(java.util.Arrays.deepToString(array));\n",
    "    }\n",
    "}\n",
    "\n",
    "ArrayPractice.main(null)"
   ]
  },
  {
   "cell_type": "markdown",
   "metadata": {},
   "source": [
    "# Popcorn Hack 5"
   ]
  },
  {
   "cell_type": "code",
   "execution_count": 2,
   "metadata": {
    "vscode": {
     "languageId": "java"
    }
   },
   "outputs": [
    {
     "name": "stdout",
     "output_type": "stream",
     "text": [
      "[[Hello, World], [Programming, Array]]\n"
     ]
    }
   ],
   "source": [
    "String[][] hack = {\n",
    "    {\"Hello\", \"World\"},\n",
    "    {\"Java\", \"Array\"}\n",
    "};\n",
    "\n",
    "//Insert code below:\n",
    "hack[1][0] = \"Programming\";\n",
    "System.out.println(Arrays.deepToString(hack));"
   ]
  },
  {
   "cell_type": "markdown",
   "metadata": {},
   "source": [
    "# Popcorn Hack 6"
   ]
  },
  {
   "cell_type": "markdown",
   "metadata": {},
   "source": [
    "To rename Australia to Athens, only B works as the other options get the last array and not the second to last array."
   ]
  },
  {
   "cell_type": "code",
   "execution_count": 3,
   "metadata": {
    "vscode": {
     "languageId": "java"
    }
   },
   "outputs": [
    {
     "name": "stdout",
     "output_type": "stream",
     "text": [
      "Row: 1\n",
      "Column: 1\n"
     ]
    }
   ],
   "source": [
    "public class Main {\n",
    "    public static void main(String[] args) {\n",
    "        int find[][] = {\n",
    "            {10, 20, 30},\n",
    "            {40, 55, 60},\n",
    "            {70, 80, 90},\n",
    "        };\n",
    "\n",
    "        for (int x = 0; x < find.length; x++) {\n",
    "            for (int y=0; y < find[x].length; y++) {\n",
    "                if (find[x][y] == 55) {\n",
    "                    System.out.println(\"Row: \" + x);\n",
    "                    System.out.println(\"Column: \" + y);\n",
    "                }\n",
    "            }\n",
    "        }\n",
    "    }\n",
    "}\n",
    "Main.main(null);"
   ]
  },
  {
   "cell_type": "markdown",
   "metadata": {},
   "source": [
    "# Popcorn Hack 7"
   ]
  },
  {
   "cell_type": "code",
   "execution_count": 4,
   "metadata": {
    "vscode": {
     "languageId": "java"
    }
   },
   "outputs": [
    {
     "name": "stdout",
     "output_type": "stream",
     "text": [
      "Linear Searching Time Complexity = O(i*j)\n",
      "Row: 3\n",
      "Column: 2\n",
      "\n",
      "\n",
      "Binary Search Time Complexity: O(i*log(j))\n",
      "Row: 3\n",
      "Column: 2\n"
     ]
    }
   ],
   "source": [
    "public class Main {\n",
    "    public static void main(String[] args) {\n",
    "        int[][] array = {\n",
    "            {1, 2, 3, 4, 5},\n",
    "            {6, 7, 8, 9, 10},\n",
    "            {11, 12, 13, 14, 15},\n",
    "            {16, 17, 18, 19, 20},\n",
    "            {21, 22, 23, 24, 25}\n",
    "        };\n",
    "        \n",
    "        int num = 18;\n",
    "        \n",
    "        // Linear Searching to find the number\n",
    "        for (int i = 0; i < array.length; i++) {\n",
    "            for (int j = 0; j < array[0].length; j++) {\n",
    "                if (array[i][j] == num) {\n",
    "                    System.out.println(\"Linear Searching Time Complexity = O(i*j)\");\n",
    "                    System.out.println(\"Row: \" + i);\n",
    "                    System.out.println(\"Column: \" + j);\n",
    "                }\n",
    "            };\n",
    "        };\n",
    "        \n",
    "        System.out.println(\"\\n\");\n",
    "\n",
    "        int i = array.length;\n",
    "        int j = array[0].length;\n",
    "        \n",
    "        int left = 0;\n",
    "        int right = i * j - 1;\n",
    "        \n",
    "        while (left <= right) {\n",
    "            int mid = left + (right - left) / 2;\n",
    "            \n",
    "            if (array[mid / j][mid % j] == num) {\n",
    "                System.out.println(\"Binary Search Time Complexity: O(i*log(j))\");\n",
    "                System.out.println(\"Row: \" + mid/j);\n",
    "                System.out.println(\"Column: \" + mid%j);\n",
    "            }\n",
    "            \n",
    "            if (array[mid / j][mid % j] < num) {\n",
    "                left = mid + 1;\n",
    "            } \n",
    "            \n",
    "            else {\n",
    "                right = mid - 1;\n",
    "            }\n",
    "        }\n",
    "        \n",
    "    }\n",
    "}\n",
    "Main.main(null);"
   ]
  },
  {
   "cell_type": "markdown",
   "metadata": {},
   "source": [
    "# Popcorn Hack 8 (Extra Credit)"
   ]
  },
  {
   "cell_type": "code",
   "execution_count": 5,
   "metadata": {
    "vscode": {
     "languageId": "java"
    }
   },
   "outputs": [
    {
     "name": "stdout",
     "output_type": "stream",
     "text": [
      "Linear Searching Time Complexity = O(i*j)\n",
      "Element found at: Row 0, Column 2\n"
     ]
    }
   ],
   "source": [
    "public class PopcornHack {\n",
    "    public static void main(String[] args) {\n",
    "        // Step 1: Create a 2D array\n",
    "        int[][] array = {\n",
    "            {1, 2, 3, 4, 5},\n",
    "            {6, 7, 8, 9, 10},\n",
    "            {11, 12, 13, 14, 15},\n",
    "            {16, 17, 18, 19, 20},\n",
    "            {21, 22, 23, 24, 25}\n",
    "        };\n",
    "\n",
    "        // Step 2: Define your target number\n",
    "        int target = 3;\n",
    "\n",
    "        // Step 3: Call the search method (choose either linear or binary search)\n",
    "        int[] result = linearSearch(array, target);\n",
    "\n",
    "        // Step 4: Output the result\n",
    "        if (result[0] != -1) {\n",
    "            System.out.println(\"Element found at: Row \" + result[0] + \", Column \" + result[1]);\n",
    "        } else {\n",
    "            System.out.println(\"Element not found.\");\n",
    "        }\n",
    "    }\n",
    "\n",
    "    public static int[] linearSearch(int[][] array, int target) {\n",
    "        for (int i = 0; i < array.length; i++) {\n",
    "            for (int j = 0; j < array[0].length; j++) {\n",
    "                if (array[i][j] == target) {\n",
    "                    System.out.println(\"Linear Searching Time Complexity = O(i*j)\");\n",
    "                    return new int[] {i, j};\n",
    "                }\n",
    "            }\n",
    "        }\n",
    "        return new int[] {-1, -1};\n",
    "    }\n",
    "\n",
    "    public static int[] binarySearch(int[][] array, int target) {\n",
    "        int i = array.length;\n",
    "        int j = array[0].length;\n",
    "\n",
    "        int left = 0;\n",
    "        int right = i * j - 1;\n",
    "\n",
    "        while (left <= right) {\n",
    "            int mid = left + (right - left) / 2;\n",
    "\n",
    "            if (array[mid / j][mid % j] == target) {\n",
    "                System.out.println(\"Binary Search Time Complexity: O(i*log(j))\");\n",
    "                return new int[] {mid / j, mid % j};\n",
    "            }\n",
    "\n",
    "            if (array[mid / j][mid % j] < target) {\n",
    "                left = mid + 1;\n",
    "            } else {\n",
    "                right = mid - 1;\n",
    "            }\n",
    "        }\n",
    "        return new int[] {-1, -1};\n",
    "    }\n",
    "}\n",
    "\n",
    "PopcornHack.main(null);"
   ]
  },
  {
   "cell_type": "markdown",
   "metadata": {},
   "source": [
    "# Arrays Trivia Quiz\n",
    "\n",
    "1. A 2D array is a matrix\n",
    "2. B (arr[1][2])\n",
    "3. If a 2D array has 3 rows and 4 columns, it has 12 elements"
   ]
  },
  {
   "cell_type": "markdown",
   "metadata": {},
   "source": [
    "# Homework Hack 8.1"
   ]
  },
  {
   "cell_type": "code",
   "execution_count": 7,
   "metadata": {
    "vscode": {
     "languageId": "java"
    }
   },
   "outputs": [
    {
     "name": "stdout",
     "output_type": "stream",
     "text": [
      "My AP CS A Class Rocks! "
     ]
    }
   ],
   "source": [
    "public class Main {\n",
    "    public static void main(String[] args) {\n",
    "        String[][] array = {{\"My\", \"A\"}, {\"AP\", \"Class\"}, {\"CS\", \"Rocks!\"}};\n",
    "        \n",
    "        for (int col = 0; col < array[0].length; col++) {\n",
    "            for (int row = 0; row < array.length; row++) {\n",
    "                System.out.print(array[row][col] + \" \");\n",
    "            }\n",
    "        }\n",
    "    }\n",
    "}\n",
    "\n",
    "Main.main(null);"
   ]
  },
  {
   "cell_type": "markdown",
   "metadata": {},
   "source": [
    "The correct answer is B since the array goes through the first word of each sub-array first, then the second word. This means the first row is displayed as \"My\", \"AP\", and \"CS\". The second row is \"A\", \"Class\", and \"Rocks!\""
   ]
  },
  {
   "cell_type": "markdown",
   "metadata": {},
   "source": [
    "# Homework Hack 8.2"
   ]
  },
  {
   "cell_type": "code",
   "execution_count": 6,
   "metadata": {
    "vscode": {
     "languageId": "java"
    }
   },
   "outputs": [
    {
     "name": "stdout",
     "output_type": "stream",
     "text": [
      "Alice's grade: 85\n",
      "Charlie's grade: User not found\n"
     ]
    }
   ],
   "source": [
    "public class GradeSearch {\n",
    "    public static String searchGrade(String[][] grades, String name) {\n",
    "        for (int x = 0; x < grades.length; x++) {\n",
    "            if (grades[x][0].equals(name)) {\n",
    "                return grades[x][1];\n",
    "            }\n",
    "        }\n",
    "        return \"User not found\";\n",
    "    }\n",
    "\n",
    "    public static void main(String[] args) {\n",
    "        // Sample 2D array with names and grades\n",
    "        String[][] grades = {\n",
    "            {\"John\", \"93\"},\n",
    "            {\"Alice\", \"85\"},\n",
    "            {\"Bob\", \"78\"},\n",
    "            {\"Eve\", \"92\"}\n",
    "        };\n",
    "\n",
    "        // Test the search function\n",
    "        String nameToSearch = \"Alice\";\n",
    "        String grade = searchGrade(grades, nameToSearch);\n",
    "        System.out.println(nameToSearch + \"'s grade: \" + grade);\n",
    "\n",
    "        nameToSearch = \"Charlie\";\n",
    "        grade = searchGrade(grades, nameToSearch);\n",
    "        System.out.println(nameToSearch + \"'s grade: \" + grade);\n",
    "    }\n",
    "}\n",
    "\n",
    "GradeSearch.main(null);"
   ]
  }
 ],
 "metadata": {
  "kernelspec": {
   "display_name": "Java",
   "language": "java",
   "name": "java"
  },
  "language_info": {
   "codemirror_mode": "java",
   "file_extension": ".jshell",
   "mimetype": "text/x-java-source",
   "name": "Java",
   "pygments_lexer": "java",
   "version": "17.0.11+7-LTS-207"
  },
  "orig_nbformat": 4
 },
 "nbformat": 4,
 "nbformat_minor": 2
}
