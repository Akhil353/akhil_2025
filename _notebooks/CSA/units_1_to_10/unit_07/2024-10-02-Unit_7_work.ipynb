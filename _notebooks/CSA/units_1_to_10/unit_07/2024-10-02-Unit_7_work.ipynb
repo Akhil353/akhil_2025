{
 "cells": [
  {
   "cell_type": "markdown",
   "metadata": {},
   "source": [
    "**POPCORN HACKS 7.1 & 7.2**\n",
    "Create an ArrayList of Strings with the following elements: \"Apple\", \"Banana\", \"Cherry\", \"Date\", \"Elderberry\".\n",
    "Complete the following tasks using the ArrayList methods you've learned:\n",
    "- Task 1: Print the size of the ArrayList.\n",
    "- Task 2: Add a new element \"Fig\" to the end of the list.\n",
    "- Task 3: Insert \"Grape\" at index 2.\n",
    "- Task 4: Replace the element at index 4 with \"Guava\".\n",
    "- Task 5: Remove the element at index 1.\n",
    "- Task 6: Retrieve and print the element at index 3.\n",
    "\n",
    "At the end of each task, print the current state of the ArrayList to verify the result."
   ]
  },
  {
   "cell_type": "code",
   "execution_count": 10,
   "metadata": {
    "vscode": {
     "languageId": "java"
    }
   },
   "outputs": [
    {
     "name": "stdout",
     "output_type": "stream",
     "text": [
      "5\n",
      "[Apple, Grape, Cherry, Guava, Elderberry, Fig]\n"
     ]
    }
   ],
   "source": [
    "ArrayList<String> fruits = new ArrayList<String>();\n",
    "\n",
    "fruits.add(\"Apple\");\n",
    "fruits.add(\"Banana\");\n",
    "fruits.add(\"Cherry\");\n",
    "fruits.add(\"Date\");\n",
    "fruits.add(\"Elderberry\");\n",
    "\n",
    "System.out.println(fruits.size());\n",
    "\n",
    "fruits.add(\"Fig\");\n",
    "\n",
    "fruits.add(2, \"Grape\");\n",
    "\n",
    "fruits.set(4, \"Guava\");\n",
    "\n",
    "fruits.remove(1);\n",
    "\n",
    "System.out.println(fruits);\n"
   ]
  },
  {
   "cell_type": "markdown",
   "metadata": {},
   "source": [
    "### Popcorn Hack"
   ]
  },
  {
   "cell_type": "code",
   "execution_count": 13,
   "metadata": {
    "vscode": {
     "languageId": "java"
    }
   },
   "outputs": [
    {
     "name": "stdout",
     "output_type": "stream",
     "text": [
      "19\n"
     ]
    }
   ],
   "source": [
    "public class ArrayListHacks {\n",
    "    private int findSum(ArrayList<Integer> values) {\n",
    "        int sum = 0;\n",
    "        for (int num: values) {\n",
    "            sum += num; // Go through each number and add to the sum counter \n",
    "        }\n",
    "        return sum;\n",
    "    }\n",
    "\n",
    "    public static void main(String[] args) {\n",
    "        ArrayList<Integer> nums = new ArrayList<>();\n",
    "        nums.add(0);\n",
    "        nums.add(1);\n",
    "        nums.add(2);\n",
    "        nums.add(3);\n",
    "        nums.add(5);\n",
    "        nums.add(8);\n",
    "\n",
    "        ArrayListHacks hacks = new ArrayListHacks();\n",
    "        System.out.println(hacks.findSum(nums));\n",
    "    }\n",
    "}\n",
    "\n",
    "ArrayListHacks.main(null);"
   ]
  },
  {
   "cell_type": "markdown",
   "metadata": {},
   "source": [
    "### Popcorn Hack"
   ]
  },
  {
   "cell_type": "code",
   "execution_count": 14,
   "metadata": {
    "vscode": {
     "languageId": "java"
    }
   },
   "outputs": [],
   "source": [
    "class DebugDuck implements Comparable<DebugDuck> {\n",
    "    String name;\n",
    "    double weight;\n",
    "\n",
    "    public DebugDuck(String name, double weight) {\n",
    "        this.name = name;\n",
    "        this.weight = weight;\n",
    "    }\n",
    "\n",
    "    @Override\n",
    "    public int compareTo(DebugDuck other) {\n",
    "        return Double.compare(this.weight, other.weight);\n",
    "    }\n",
    "\n",
    "    @Override\n",
    "    public String toString() {\n",
    "        return name + \" (\" + weight + \" kg)\";\n",
    "    }\n",
    "}\n",
    "\n",
    "DebugDuck Duck_A = new DebugDuck(\"Duck A\", 4.5);\n",
    "DebugDuck Duck_B = new DebugDuck(\"Duck B\", 2.1);\n",
    "DebugDuck Duck_B = new DebugDuck(\"Duck C\", 5.0);\n",
    "DebugDuck Duck_B = new DebugDuck(\"Duck D\", 1.9);\n"
   ]
  },
  {
   "cell_type": "code",
   "execution_count": null,
   "metadata": {
    "vscode": {
     "languageId": "java"
    }
   },
   "outputs": [],
   "source": []
  }
 ],
 "metadata": {
  "kernelspec": {
   "display_name": "Java",
   "language": "java",
   "name": "java"
  },
  "language_info": {
   "codemirror_mode": "java",
   "file_extension": ".jshell",
   "mimetype": "text/x-java-source",
   "name": "Java",
   "pygments_lexer": "java",
   "version": "17.0.11+7-LTS-207"
  },
  "orig_nbformat": 4
 },
 "nbformat": 4,
 "nbformat_minor": 2
}
