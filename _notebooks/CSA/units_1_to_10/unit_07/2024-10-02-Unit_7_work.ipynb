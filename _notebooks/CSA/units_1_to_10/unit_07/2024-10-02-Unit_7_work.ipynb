{
 "cells": [
  {
   "cell_type": "markdown",
   "metadata": {},
   "source": [
    "---\n",
    "layout: post\n",
    "toc: true\n",
    "title: Unit 7 ArrayList P3 Homework\n",
    "description: A Unit of documents that overview Array Lists in Java\n",
    "authors: Akhil Singamneni\n",
    "categories: [AP CSA]\n",
    "courses: {'csa': {'week': 5}}\n",
    "type: ccc\n",
    "permalink: /csa/unit7-p3/unit7-1\n",
    "menu: nav/CSA_Units/csa_unit7_p3.html\n",
    "---"
   ]
  },
  {
   "cell_type": "markdown",
   "metadata": {},
   "source": [
    "**POPCORN HACKS 7.1 & 7.2**\n",
    "Create an ArrayList of Strings with the following elements: \"Apple\", \"Banana\", \"Cherry\", \"Date\", \"Elderberry\".\n",
    "Complete the following tasks using the ArrayList methods you've learned:\n",
    "- Task 1: Print the size of the ArrayList.\n",
    "- Task 2: Add a new element \"Fig\" to the end of the list.\n",
    "- Task 3: Insert \"Grape\" at index 2.\n",
    "- Task 4: Replace the element at index 4 with \"Guava\".\n",
    "- Task 5: Remove the element at index 1.\n",
    "- Task 6: Retrieve and print the element at index 3.\n",
    "\n",
    "At the end of each task, print the current state of the ArrayList to verify the result."
   ]
  },
  {
   "cell_type": "code",
   "execution_count": 18,
   "metadata": {},
   "outputs": [
    {
     "name": "stdout",
     "output_type": "stream",
     "text": [
      "[Apple, Banana, Cherry, Date, Elderberry]\n",
      "\n",
      "5\n",
      "\n",
      "[Apple, Banana, Cherry, Date, Elderberry, Fig]\n",
      "\n",
      "[Apple, Banana, Grape, Cherry, Date, Elderberry, Fig]\n",
      "\n",
      "[Apple, Banana, Grape, Cherry, Guava, Elderberry, Fig]\n",
      "\n",
      "[Apple, Grape, Cherry, Guava, Elderberry, Fig]\n",
      "\n"
     ]
    }
   ],
   "source": [
    "ArrayList<String> fruits = new ArrayList<String>();\n",
    "\n",
    "fruits.add(\"Apple\");\n",
    "fruits.add(\"Banana\");\n",
    "fruits.add(\"Cherry\");\n",
    "fruits.add(\"Date\");\n",
    "fruits.add(\"Elderberry\");\n",
    "System.out.println(fruits + \"\\n\");\n",
    "\n",
    "\n",
    "System.out.println(fruits.size() + \"\\n\");\n",
    "\n",
    "fruits.add(\"Fig\");\n",
    "System.out.println(fruits + \"\\n\");\n",
    "\n",
    "fruits.add(2, \"Grape\");\n",
    "System.out.println(fruits + \"\\n\");\n",
    "\n",
    "fruits.set(4, \"Guava\");\n",
    "System.out.println(fruits + \"\\n\");\n",
    "\n",
    "fruits.remove(1);\n",
    "System.out.println(fruits + \"\\n\");\n",
    "\n",
    "\n"
   ]
  },
  {
   "cell_type": "markdown",
   "metadata": {},
   "source": [
    "### Popcorn Hack"
   ]
  },
  {
   "cell_type": "code",
   "execution_count": 13,
   "metadata": {},
   "outputs": [
    {
     "name": "stdout",
     "output_type": "stream",
     "text": [
      "19\n"
     ]
    }
   ],
   "source": [
    "public class ArrayListHacks {\n",
    "    private int findSum(ArrayList<Integer> values) {\n",
    "        int sum = 0;\n",
    "        for (int num: values) {\n",
    "            sum += num; // Go through each number and add to the sum counter \n",
    "        }\n",
    "        return sum;\n",
    "    }\n",
    "\n",
    "    public static void main(String[] args) {\n",
    "        ArrayList<Integer> nums = new ArrayList<>();\n",
    "        nums.add(0);\n",
    "        nums.add(1);\n",
    "        nums.add(2);\n",
    "        nums.add(3);\n",
    "        nums.add(5);\n",
    "        nums.add(8);\n",
    "\n",
    "        ArrayListHacks hacks = new ArrayListHacks();\n",
    "        System.out.println(hacks.findSum(nums));\n",
    "    }\n",
    "}\n",
    "\n",
    "ArrayListHacks.main(null);"
   ]
  },
  {
   "cell_type": "markdown",
   "metadata": {},
   "source": [
    "### Popcorn Hack\n",
    "\n",
    "### Task:\n",
    "- Implement **either** sorting algorithm to sort the ducks by weight.\n",
    "- Print the sorted list."
   ]
  },
  {
   "cell_type": "code",
   "execution_count": 32,
   "metadata": {},
   "outputs": [
    {
     "name": "stdout",
     "output_type": "stream",
     "text": [
      "Sorted ducks by weight:\n",
      "Duck D (1.9 kg)\n",
      "Duck B (2.1 kg)\n",
      "Duck A (4.5 kg)\n",
      "Duck C (5.0 kg)\n"
     ]
    }
   ],
   "source": [
    "import java.util.Arrays;\n",
    "\n",
    "class DebugDuck implements Comparable<DebugDuck> {\n",
    "    String name;\n",
    "    double weight;\n",
    "\n",
    "    public DebugDuck(String name, double weight) {\n",
    "        this.name = name;\n",
    "        this.weight = weight;\n",
    "    }\n",
    "\n",
    "    @Override\n",
    "    public int compareTo(DebugDuck other) {\n",
    "        return Double.compare(this.weight, other.weight);\n",
    "    }\n",
    "\n",
    "    @Override\n",
    "    public String toString() {\n",
    "        return name + \" (\" + weight + \" kg)\";\n",
    "    }\n",
    "}\n",
    "\n",
    "public static void selectionSort(DebugDuck[] ducks) {\n",
    "    for (int i = 0; i < ducks.length - 1; i++) {\n",
    "        int minIndex = i;\n",
    "\n",
    "        for (int j = i + 1; j < ducks.length; j++) {\n",
    "            if (ducks[j].compareTo(ducks[minIndex]) < 0) {\n",
    "                minIndex = j;\n",
    "            }\n",
    "        }\n",
    "\n",
    "        if (minIndex != i) {\n",
    "            DebugDuck temp = ducks[i];\n",
    "            ducks[i] = ducks[minIndex];\n",
    "            ducks[minIndex] = temp;\n",
    "        }\n",
    "    }\n",
    "}\n",
    "\n",
    "public class Main {\n",
    "    public static void main(String[] args) {\n",
    "\n",
    "        DebugDuck Duck_A = new DebugDuck(\"Duck A\", 4.5);\n",
    "        DebugDuck Duck_B = new DebugDuck(\"Duck B\", 2.1);\n",
    "        DebugDuck Duck_C = new DebugDuck(\"Duck C\", 5.0);\n",
    "        DebugDuck Duck_D = new DebugDuck(\"Duck D\", 1.9);\n",
    "\n",
    "\n",
    "        DebugDuck[] ducks = {Duck_A, Duck_B, Duck_C, Duck_D};\n",
    "\n",
    "        selectionSort(ducks);\n",
    "\n",
    "        System.out.println(\"Sorted ducks by weight:\");\n",
    "        for (DebugDuck duck : ducks) {\n",
    "            System.out.println(duck);\n",
    "        }\n",
    "    }\n",
    "\n",
    "}\n",
    "\n",
    "Main.main(null);"
   ]
  },
  {
   "cell_type": "markdown",
   "metadata": {},
   "source": [
    "# Popcorn Hack"
   ]
  },
  {
   "cell_type": "code",
   "execution_count": 2,
   "metadata": {},
   "outputs": [],
   "source": [
    "ArrayList<String> userData = new ArrayList<>();\n",
    "userData.add(\"John Doe\");\n",
    "userData.add(\"john@example.com\");\n",
    "\n",
    "// Once you're done using the data\n",
    "userData.clear(); // Removes all entries\n",
    "userData = null;  // use null to remove all instances of the data"
   ]
  },
  {
   "cell_type": "markdown",
   "metadata": {},
   "source": [
    "## **ArrayList Coding Activity**\n",
    "\n",
    "### **Objective:**\n",
    "Students will create, manipulate, and sort an `ArrayList` of integers.\n",
    "\n",
    "### **Activity Outline:**\n",
    "\n",
    "1. **Create an ArrayList:**\n",
    "   - **Task:** Create an `ArrayList` of integers and add 5 elements of your choice.\n",
    "   - **Hint:** Use the `ArrayList` class and the `.add()` method to add elements.\n",
    "\n",
    "2. **Modify an Element:**\n",
    "   - **Task:** Change the second element (index 1) of the `ArrayList` to a new value (e.g., 100).\n",
    "   - **Hint:** The `.set()` method allows you to update an element at a specific index.\n",
    "\n",
    "3. **Remove an Element:**\n",
    "   - **Task:** Remove the third element (index 2) from the `ArrayList`.\n",
    "   - **Hint:** Use the `.remove()` method to delete an element by its index.\n",
    "\n",
    "4. **Search for an Element:**\n",
    "   - **Task:** Check if a specific number (e.g., 30) is in the `ArrayList` and print a message based on whether it is found or not.\n",
    "   - **Hint:** The `.contains()` method can be used to check for the presence of an element.\n",
    "\n",
    "5. **Loop Through the ArrayList:**\n",
    "   - **Task:** Use a `for` loop to print each element of the `ArrayList`.\n",
    "   - **Hint:** You can use a traditional `for` loop or an enhanced `for` loop (`for-each`) to iterate through the elements.\n",
    "\n",
    "6. **Sort the ArrayList:**\n",
    "   - **Task:** Sort the `ArrayList` in ascending order.\n",
    "   - **Hint:** Use `Collections.sort()` to sort the `ArrayList`.\n",
    "\n",
    "7. **Print the Sorted ArrayList:**\n",
    "   - **Task:** Print the sorted `ArrayList` to see the updated order of the elements.\n",
    "   - **Hint:** Use `System.out.println()` to print the sorted list.\n"
   ]
  },
  {
   "cell_type": "code",
   "execution_count": 15,
   "metadata": {},
   "outputs": [
    {
     "name": "stdout",
     "output_type": "stream",
     "text": [
      "Not here\n",
      "1\n",
      "100\n",
      "4\n",
      "5\n",
      "[1, 4, 5, 100]\n"
     ]
    }
   ],
   "source": [
    "import java.util.ArrayList;\n",
    "\n",
    "ArrayList<Integer> myNums = new ArrayList<>();\n",
    "\n",
    "\n",
    "\n",
    "myNums.add(1);\n",
    "myNums.add(2);\n",
    "myNums.add(3);\n",
    "myNums.add(4);\n",
    "myNums.add(5);\n",
    "\n",
    "\n",
    "\n",
    "myNums.set(1, 100);\n",
    "\n",
    "\n",
    "\n",
    "myNums.remove(2);\n",
    "\n",
    "\n",
    "\n",
    "if (myNums.contains(30) == true) {\n",
    "    System.out.println(\"The number 30 is in the ArrayList\");\n",
    "}\n",
    "else {\n",
    "    System.out.println(\"Not here\");\n",
    "}\n",
    "\n",
    "\n",
    "\n",
    "for (int num: myNums) {\n",
    "    System.out.println(num);\n",
    "}\n",
    "\n",
    "\n",
    "\n",
    "Collections.sort(myNums);\n",
    "\n",
    "\n",
    "\n",
    "System.out.println(myNums);"
   ]
  }
 ],
 "metadata": {
  "kernelspec": {
   "display_name": "Java",
   "language": "java",
   "name": "java"
  },
  "language_info": {
   "codemirror_mode": "java",
   "file_extension": ".jshell",
   "mimetype": "text/x-java-source",
   "name": "java",
   "pygments_lexer": "java",
   "version": "17.0.11+7-LTS-207"
  },
  "orig_nbformat": 4
 },
 "nbformat": 4,
 "nbformat_minor": 2
}
