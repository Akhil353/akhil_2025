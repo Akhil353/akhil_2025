{
 "cells": [
  {
   "cell_type": "markdown",
   "metadata": {},
   "source": [
    "---\n",
    "layout: post\n",
    "title: Unit 3 Homework\n",
    "description: Unit 3 Homework\n",
    "toc: true\n",
    "permalink: /csa/unit2/period3/homework/\n",
    "menu: nav/CSA_Units/unit2/period3.html\n",
    "comments: true\n",
    "courses: { csa: {week: 5} }\n",
    "type: ccc\n",
    "categories: [AP CSA]\n",
    "author: Akhil Singamneni\n",
    "---"
   ]
  },
  {
   "cell_type": "markdown",
   "metadata": {},
   "source": [
    "# Popcorn Hacks"
   ]
  },
  {
   "cell_type": "markdown",
   "metadata": {},
   "source": [
    "No quotes are around the names, fixed code is shown below"
   ]
  },
  {
   "cell_type": "code",
   "execution_count": 12,
   "metadata": {
    "vscode": {
     "languageId": "java"
    }
   },
   "outputs": [
    {
     "data": {
      "text/plain": [
       "true"
      ]
     },
     "execution_count": 12,
     "metadata": {},
     "output_type": "execute_result"
    }
   ],
   "source": [
    "String myName = \"Alisha\";\n",
    "myName != \"Anika\";\n",
    "myName == \"Alisha\";"
   ]
  },
  {
   "cell_type": "markdown",
   "metadata": {},
   "source": [
    "# Homework Hack\n",
    "\n",
    "The precondition for num is that the number of digits is between 1 and 6, and the number is greater than 0."
   ]
  },
  {
   "cell_type": "markdown",
   "metadata": {},
   "source": [
    "# Popcorn hacks"
   ]
  },
  {
   "cell_type": "code",
   "execution_count": 6,
   "metadata": {
    "vscode": {
     "languageId": "java"
    }
   },
   "outputs": [
    {
     "name": "stdout",
     "output_type": "stream",
     "text": [
      "Current age: -10\n",
      "On your next birthday, you will be -9 years old!\n"
     ]
    }
   ],
   "source": [
    "public static void main(String[] args) {\n",
    "    int myAge = -10;\n",
    "    System.out.println(\"Current age: \" + myAge);\n",
    "    \n",
    "    if (myAge >= 16) {\n",
    "        System.out.println(\"You can start learning to drive!\");\n",
    "    }\n",
    "\n",
    "    System.out.println(\"On your next birthday, you will be \" + (myAge + 1) + \" years old!\");\n",
    "}\n",
    "\n",
    "main(null);"
   ]
  },
  {
   "cell_type": "code",
   "execution_count": 7,
   "metadata": {
    "vscode": {
     "languageId": "java"
    }
   },
   "outputs": [
    {
     "name": "stdout",
     "output_type": "stream",
     "text": [
      "Current age: 5\n",
      "On your next birthday, you will be 6 years old!\n"
     ]
    }
   ],
   "source": [
    "public static void main(String[] args) {\n",
    "    int myAge = 5;\n",
    "    System.out.println(\"Current age: \" + myAge);\n",
    "    \n",
    "    if (myAge >= 16) {\n",
    "        System.out.println(\"You can start learning to drive!\");\n",
    "    }\n",
    "\n",
    "    System.out.println(\"On your next birthday, you will be \" + (myAge + 1) + \" years old!\");\n",
    "}\n",
    "\n",
    "main(null);"
   ]
  },
  {
   "cell_type": "markdown",
   "metadata": {},
   "source": [
    "If you were younger than 16, it would print \"You are not old enough for a liscense yet.\"\n",
    "\n",
    "Personal If/Else statement below"
   ]
  },
  {
   "cell_type": "code",
   "execution_count": 9,
   "metadata": {
    "vscode": {
     "languageId": "java"
    }
   },
   "outputs": [
    {
     "name": "stdout",
     "output_type": "stream",
     "text": [
      "You qualify for a senior's discount!\n"
     ]
    }
   ],
   "source": [
    "public static void main(String[] args) {\n",
    "    int myAge = 75;\n",
    "    if (myAge>=60) {\n",
    "        System.out.println(\"You qualify for a senior's discount!\");\n",
    "    }\n",
    "}\n",
    "\n",
    "main(null);"
   ]
  },
  {
   "cell_type": "markdown",
   "metadata": {},
   "source": [
    "If you were 19, it would print \"You are old enough for a liscense to drive.\"\n",
    "\n",
    "If you were 13, it would NOT print anything since it doesn't fulfill any age requirements."
   ]
  },
  {
   "cell_type": "code",
   "execution_count": 14,
   "metadata": {
    "vscode": {
     "languageId": "java"
    }
   },
   "outputs": [
    {
     "name": "stdout",
     "output_type": "stream",
     "text": [
      "You shouldn't be trying to drive!\n"
     ]
    }
   ],
   "source": [
    "public static void main(String[] args) {\n",
    "    int myAge = 5;\n",
    "    if (myAge < 10) {\n",
    "        System.out.println(\"You shouldn't be trying to drive!\");\n",
    "    }\n",
    "}\n",
    "\n",
    "main(null);"
   ]
  },
  {
   "cell_type": "markdown",
   "metadata": {},
   "source": [
    "The purpose of the algorithm is to check if someone qualifies for a membership based on factors like age and income. The output for the given conditions would be \"You are eligible for a Student Discount.\""
   ]
  },
  {
   "cell_type": "code",
   "execution_count": 16,
   "metadata": {
    "vscode": {
     "languageId": "java"
    }
   },
   "outputs": [
    {
     "name": "stdout",
     "output_type": "stream",
     "text": [
      "Discount applied\n"
     ]
    }
   ],
   "source": [
    "public class Main {\n",
    "    public static void main(String[] args) {\n",
    "        int age = 30; // Change this value for testing\n",
    "        boolean isStudent = true; // Change this value for testing\n",
    "\n",
    "        if (age > 18 && isStudent == true) {\n",
    "            System.out.println(\"Discount applied\");\n",
    "        }\n",
    "    }\n",
    "}\n",
    "\n",
    "Main.main(null);"
   ]
  },
  {
   "cell_type": "markdown",
   "metadata": {},
   "source": [
    "\n",
    "What is !(x == 0) equivalent to?\n",
    "!(x == 0) is equivalent to x != 0\n",
    "\n",
    "The negation of (x < -5 || x > 10) is (x >= -5 && x <= 10)"
   ]
  },
  {
   "cell_type": "markdown",
   "metadata": {},
   "source": [
    "Sharon's house and your house would be the same as they are both the same object with the same parameters."
   ]
  },
  {
   "cell_type": "code",
   "execution_count": 19,
   "metadata": {
    "vscode": {
     "languageId": "java"
    }
   },
   "outputs": [
    {
     "name": "stdout",
     "output_type": "stream",
     "text": [
      "Enter your age: Enter your annual income: Are you a student (yes or no)? Enter your employment type (full-time, part-time, unemployed): \n",
      "\n",
      "\n",
      "You qualify for a Student Discount.\n"
     ]
    }
   ],
   "source": [
    "import java.util.Scanner;\n",
    "\n",
    "public class PrimeClubMembership {\n",
    "    public static void main(String[] args) {\n",
    "        Scanner scanner = new Scanner(System.in);\n",
    "\n",
    "        // Get user input for age, annual income, student status, and employment type\n",
    "        System.out.print(\"Enter your age: \");\n",
    "        int age = scanner.nextInt();\n",
    "        if (age <= 0) {\n",
    "            System.out.println(\"Invalid age. Age must be a positive integer.\");\n",
    "            return;\n",
    "        }\n",
    "\n",
    "        System.out.print(\"Enter your annual income: \");\n",
    "        double income = scanner.nextDouble();\n",
    "        if (income < 0) {\n",
    "            System.out.println(\"Invalid income. Annual income must be a positive double.\");\n",
    "            return;\n",
    "        }\n",
    "\n",
    "        System.out.print(\"Are you a student (yes or no)? \");\n",
    "        scanner.nextLine();  // consume the newline character\n",
    "        String studentStatus = scanner.nextLine().trim().toLowerCase();\n",
    "        boolean isStudent = studentStatus.equals(\"yes\");\n",
    "        if (!studentStatus.equals(\"yes\") && !studentStatus.equals(\"no\")) {\n",
    "            System.out.println(\"Invalid student status. Must be 'yes' or 'no'.\");\n",
    "            return;\n",
    "        }\n",
    "\n",
    "        System.out.print(\"Enter your employment type (full-time, part-time, unemployed): \");\n",
    "        String employmentType = scanner.nextLine().trim().toLowerCase();\n",
    "        if (!employmentType.equals(\"full-time\") && !employmentType.equals(\"part-time\") && !employmentType.equals(\"unemployed\")) {\n",
    "            System.out.println(\"Invalid employment type.\");\n",
    "            return;\n",
    "        }\n",
    "\n",
    "        boolean qualifiesForBasic = age >= 18 && income >= 20000;\n",
    "        boolean qualifiesForPremium = age >= 25 && income >= 50000;\n",
    "        boolean qualifiesForSenior = age >= 65;\n",
    "        boolean qualifiesForStudent = isStudent;\n",
    "\n",
    "        System.out.println(\"\\n\\n\");\n",
    "        \n",
    "        if (qualifiesForPremium) {\n",
    "            System.out.println(\"You qualify for Premium Membership.\");\n",
    "        } else if (qualifiesForSenior) {\n",
    "            System.out.println(\"You qualify for a Senior Discount.\");\n",
    "        } else if (qualifiesForStudent) {\n",
    "            System.out.println(\"You qualify for a Student Discount.\");\n",
    "        } else if (qualifiesForBasic) {\n",
    "            System.out.println(\"You qualify for Basic Membership.\");\n",
    "        } else {\n",
    "            System.out.println(\"You do not qualify for any memberships or discounts.\");\n",
    "        }\n",
    "    }\n",
    "}\n",
    "PrimeClubMembership.main(null);"
   ]
  }
 ],
 "metadata": {
  "kernelspec": {
   "display_name": "Java",
   "language": "java",
   "name": "java"
  },
  "language_info": {
   "codemirror_mode": "java",
   "file_extension": ".jshell",
   "mimetype": "text/x-java-source",
   "name": "Java",
   "pygments_lexer": "java",
   "version": "17.0.11+7-LTS-207"
  },
  "orig_nbformat": 4
 },
 "nbformat": 4,
 "nbformat_minor": 2
}
