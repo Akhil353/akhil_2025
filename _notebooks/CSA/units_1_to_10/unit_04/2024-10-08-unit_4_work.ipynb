{
 "cells": [
  {
   "cell_type": "markdown",
   "metadata": {},
   "source": [
    "---\n",
    "layout: post\n",
    "title: Unit 4 Homework\n",
    "description: Unit 4 Homework\n",
    "toc: true\n",
    "permalink: /csa/unit4/period3/homework/\n",
    "menu: nav/CSA_Units/unit4/period3.html\n",
    "comments: true\n",
    "courses: { csa: {week: 6} }\n",
    "type: ccc\n",
    "categories: [AP CSA]\n",
    "author: Akhil Singamneni\n",
    "---"
   ]
  },
  {
   "cell_type": "markdown",
   "metadata": {},
   "source": [
    "# Popcorn Hacks"
   ]
  },
  {
   "cell_type": "markdown",
   "metadata": {},
   "source": [
    "Fix the code"
   ]
  },
  {
   "cell_type": "code",
   "execution_count": 2,
   "metadata": {
    "vscode": {
     "languageId": "java"
    }
   },
   "outputs": [
    {
     "name": "stdout",
     "output_type": "stream",
     "text": [
      "0\n",
      "1\n",
      "2\n",
      "3\n",
      "4\n"
     ]
    }
   ],
   "source": [
    "int i = 0;\n",
    "while (i < 5) {\n",
    "    System.out.println(i);\n",
    "    i++; //add to i so that the loop wont go forever\n",
    "}"
   ]
  },
  {
   "cell_type": "markdown",
   "metadata": {},
   "source": [
    "Fun For Loop Hack:\n",
    "Create a program that iterates through a list of numbers (int_list = {0, 4, 51, 83, 92, 10, 123, 145}) using both a for loop and a for each loop, then split the numbers in the list into even/odd lists, and output them."
   ]
  },
  {
   "cell_type": "code",
   "execution_count": 3,
   "metadata": {
    "vscode": {
     "languageId": "java"
    }
   },
   "outputs": [
    {
     "name": "stdout",
     "output_type": "stream",
     "text": [
      "Using for loop:\n",
      "Even Numbers: [0, 4, 92, 10]\n",
      "Odd Numbers: [51, 83, 123, 145]\n",
      "\n",
      "Using for-each loop:\n",
      "Even Numbers: [0, 4, 92, 10]\n",
      "Odd Numbers: [51, 83, 123, 145]\n"
     ]
    }
   ],
   "source": [
    "\n",
    "        int[] intList = {0, 4, 51, 83, 92, 10, 123, 145};\n",
    "        \n",
    "        ArrayList<Integer> evenNumbers = new ArrayList<>();\n",
    "        ArrayList<Integer> oddNumbers = new ArrayList<>();\n",
    "\n",
    "        for (int i = 0; i < intList.length; i++) {\n",
    "            int number = intList[i];\n",
    "            if (number % 2 == 0) {\n",
    "                evenNumbers.add(number);\n",
    "            } else {\n",
    "                oddNumbers.add(number);\n",
    "            }\n",
    "        }\n",
    "\n",
    "        System.out.println(\"Using for loop:\");\n",
    "        System.out.println(\"Even Numbers: \" + evenNumbers);\n",
    "        System.out.println(\"Odd Numbers: \" + oddNumbers);\n",
    "\n",
    "        evenNumbers.clear();\n",
    "        oddNumbers.clear();\n",
    "\n",
    "        for (int number : intList) {\n",
    "            if (number % 2 == 0) {\n",
    "                evenNumbers.add(number);\n",
    "            } else {\n",
    "                oddNumbers.add(number);\n",
    "            }\n",
    "        }\n",
    "\n",
    "        System.out.println(\"\\nUsing for-each loop:\");\n",
    "        System.out.println(\"Even Numbers: \" + evenNumbers);\n",
    "        System.out.println(\"Odd Numbers: \" + oddNumbers);\n"
   ]
  },
  {
   "cell_type": "markdown",
   "metadata": {},
   "source": [
    "Popcorn Hack:\n",
    "Iterate through the characters a string with a while loop"
   ]
  },
  {
   "cell_type": "code",
   "execution_count": 6,
   "metadata": {
    "vscode": {
     "languageId": "java"
    }
   },
   "outputs": [
    {
     "name": "stdout",
     "output_type": "stream",
     "text": [
      "B\n",
      "a\n",
      "l\n",
      "l\n",
      "o\n",
      "n\n"
     ]
    }
   ],
   "source": [
    "String word = \"Ballon\";\n",
    "\n",
    "int i = 0;\n",
    "\n",
    "while (i < word.length()) {\n",
    "    System.out.println(word.charAt(i));\n",
    "    i++;\n",
    "}"
   ]
  },
  {
   "cell_type": "markdown",
   "metadata": {},
   "source": [
    "Homework Hack"
   ]
  },
  {
   "cell_type": "code",
   "execution_count": 8,
   "metadata": {
    "vscode": {
     "languageId": "java"
    }
   },
   "outputs": [
    {
     "name": "stdout",
     "output_type": "stream",
     "text": [
      "test 1: khoor zruog\n",
      "test 2: klmnopq\n",
      "test 3: c fipy wmu\n"
     ]
    }
   ],
   "source": [
    "public class CaesarCipher {\n",
    "    private int key;\n",
    "    private String phrase;\n",
    "\n",
    "    public CaesarCipher(int key, String phrase) {\n",
    "        this.key = key;\n",
    "        this.phrase = phrase;\n",
    "    }\n",
    "\n",
    "    public String encrypt() {\n",
    "        StringBuilder encrypted = new StringBuilder();\n",
    "        for (char c : phrase.toCharArray()) {\n",
    "            if (Character.isLetter(c)) {\n",
    "                char base = Character.isLowerCase(c) ? 'a' : 'A';\n",
    "                int shifted = (c - base + key) % 26 + base;\n",
    "                encrypted.append((char) shifted);\n",
    "            } else {\n",
    "                encrypted.append(c); \n",
    "            }\n",
    "        }\n",
    "        return encrypted.toString();\n",
    "    }\n",
    "\n",
    "    public static void main(String[] args) {\n",
    "        CaesarCipher test1 = new CaesarCipher(3, \"hello world\");\n",
    "        CaesarCipher test2 = new CaesarCipher(10, \"abcdefg\");\n",
    "        CaesarCipher test3 = new CaesarCipher(20, \"i love csa\");\n",
    "\n",
    "        System.out.println(\"test 1: \" + test1.encrypt());\n",
    "        System.out.println(\"test 2: \" + test2.encrypt());\n",
    "        System.out.println(\"test 3: \" + test3.encrypt());\n",
    "    }\n",
    "}\n",
    "CaesarCipher.main(null);"
   ]
  },
  {
   "cell_type": "code",
   "execution_count": 9,
   "metadata": {
    "vscode": {
     "languageId": "java"
    }
   },
   "outputs": [
    {
     "name": "stdout",
     "output_type": "stream",
     "text": [
      "Enter the number of rows: 1 2 3 4 5 \n",
      "1 2 3 4 \n",
      "1 2 3 \n",
      "1 2 \n"
     ]
    }
   ],
   "source": [
    "import java.util.Scanner;\n",
    "Scanner scanner = new Scanner(System.in);\n",
    "System.out.print(\"Enter the number of rows: \");\n",
    "int rows = scanner.nextInt();\n",
    "for (int i = rows; i > 1; i--) { // correted i-- here\n",
    "    for (int j = 1; j <= i; j++) {\n",
    "        System.out.print(j + \" \");\n",
    "    }\n",
    "    System.out.println();\n",
    "}\n",
    "\n",
    "scanner.close();\n"
   ]
  },
  {
   "cell_type": "markdown",
   "metadata": {},
   "source": [
    "### Question 1\n",
    "\n",
    "The inner loop runs 4 times for each of the 5 iterations of the outer loop, resulting in a total of 20 * characters.\n",
    "\n",
    "\n",
    "### Question 2\n",
    "\n",
    "Each line contains 5 * characters, and since the outer loop runs 6 times, there will be 6 lines with 5 * characters each."
   ]
  },
  {
   "cell_type": "markdown",
   "metadata": {},
   "source": [
    "# Homework"
   ]
  },
  {
   "cell_type": "markdown",
   "metadata": {},
   "source": [
    "### Question 1\n",
    "Answer: D\n",
    "Explanation: Since the counter starts at 3 and keeps incrementing by 1 until it is greater than 12, it will print every number between 3 and 12 (inclusive).\n",
    "\n",
    "\n",
    "### Question 2\n",
    "Answer: C\n",
    "Explanation: The loop iterates from 3 to 10, inclusive, which makes a total of 8 iterations. Therefore, the code will print an asterisk (*) 8 times.\n",
    "\n",
    "\n",
    "### Question 3\n",
    "Answer: A\n",
    "Explanation: The while loop starts with x = -5 and increments x by 1 each time, printing the value of x after incrementing. This continues until x reaches 0, printing -4 to 0.\n",
    "\n",
    "\n",
    "### Question 4\n",
    "Answer: B\n",
    "Explanation: The loop iterates from 1 to 5. For odd numbers, it adds the number directly to sum; for even numbers, it adds double the number to sum. The calculation gives a final sum of 21.\n",
    "\n",
    "\n",
    "### Divisible by 3 or 5"
   ]
  },
  {
   "cell_type": "code",
   "execution_count": 10,
   "metadata": {
    "vscode": {
     "languageId": "java"
    }
   },
   "outputs": [
    {
     "name": "stdout",
     "output_type": "stream",
     "text": [
      "Using while loop: [3, 5, 6, 9, 10, 12, 15, 18, 20, 21, 24, 25, 27, 30, 33, 35, 36, 39, 40, 42, 45, 48, 50]\n"
     ]
    }
   ],
   "source": [
    "import java.util.ArrayList;\n",
    "import java.util.List;\n",
    "\n",
    "public class DivisibleByThreeOrFive {\n",
    "    public static void main(String[] args) {\n",
    "        // Using a while loop\n",
    "        List<Integer> divisibleListWhile = new ArrayList<>();\n",
    "        int i = 1;\n",
    "        while (i <= 50) {\n",
    "            if (i % 3 == 0 || i % 5 == 0) {\n",
    "                divisibleListWhile.add(i);\n",
    "            }\n",
    "            i++;\n",
    "        }\n",
    "        System.out.println(\"Using while loop: \" + divisibleListWhile);\n",
    "    }\n",
    "}\n",
    "\n",
    "DivisibleByThreeOrFive.main(null);"
   ]
  },
  {
   "cell_type": "markdown",
   "metadata": {},
   "source": [
    "### Using For Loop"
   ]
  },
  {
   "cell_type": "code",
   "execution_count": 11,
   "metadata": {
    "vscode": {
     "languageId": "java"
    }
   },
   "outputs": [
    {
     "name": "stdout",
     "output_type": "stream",
     "text": [
      "Using for loop: [3, 5, 6, 9, 10, 12, 15, 18, 20, 21, 24, 25, 27, 30, 33, 35, 36, 39, 40, 42, 45, 48, 50]\n"
     ]
    }
   ],
   "source": [
    "import java.util.ArrayList;\n",
    "import java.util.List;\n",
    "\n",
    "public class DivisibleByThreeOrFive {\n",
    "    public static void main(String[] args) {\n",
    "        // Using a for loop\n",
    "        List<Integer> divisibleListFor = new ArrayList<>();\n",
    "        for (int i = 1; i <= 50; i++) {\n",
    "            if (i % 3 == 0 || i % 5 == 0) {\n",
    "                divisibleListFor.add(i);\n",
    "            }\n",
    "        }\n",
    "        System.out.println(\"Using for loop: \" + divisibleListFor);\n",
    "    }\n",
    "}\n",
    "\n",
    "\n",
    "DivisibleByThreeOrFive.main(null);"
   ]
  },
  {
   "cell_type": "markdown",
   "metadata": {},
   "source": [
    "### Palindrome"
   ]
  },
  {
   "cell_type": "code",
   "execution_count": 12,
   "metadata": {
    "vscode": {
     "languageId": "java"
    }
   },
   "outputs": [
    {
     "name": "stdout",
     "output_type": "stream",
     "text": [
      "Palindromes: [4444, 515, 2882, 6556, 595]\n"
     ]
    }
   ],
   "source": [
    "import java.util.ArrayList;\n",
    "import java.util.List;\n",
    "\n",
    "public class PalindromeFinder {\n",
    "    public static void main(String[] args) {\n",
    "        // Sample input list\n",
    "        List<Integer> testList = List.of(5672, 235, 5537, 6032, 317, 8460, 1672, \n",
    "                                          8104, 7770, 4442, 913, 2508, 1116, \n",
    "                                          9969, 9091, 522, 8756, 9527, 7968, \n",
    "                                          1520, 4444, 515, 2882, 6556, 595);\n",
    "\n",
    "        List<Integer> palindromes = new ArrayList<>();\n",
    "        int index = 0;\n",
    "\n",
    "        // Use a while loop to find palindromes\n",
    "        while (index < testList.size()) {\n",
    "            if (isPalindrome(testList.get(index))) {\n",
    "                palindromes.add(testList.get(index));\n",
    "            }\n",
    "            index++;\n",
    "        }\n",
    "\n",
    "        // Print the found palindromes\n",
    "        System.out.println(\"Palindromes: \" + palindromes);\n",
    "    }\n",
    "\n",
    "    // Method to check if a number is a palindrome\n",
    "    private static boolean isPalindrome(int number) {\n",
    "        String str = Integer.toString(number);\n",
    "        String reversedStr = new StringBuilder(str).reverse().toString();\n",
    "        return str.equals(reversedStr);\n",
    "    }\n",
    "}\n",
    "PalindromeFinder.main(null);"
   ]
  },
  {
   "cell_type": "markdown",
   "metadata": {},
   "source": [
    "### Matrix"
   ]
  },
  {
   "cell_type": "code",
   "execution_count": 13,
   "metadata": {
    "vscode": {
     "languageId": "java"
    }
   },
   "outputs": [
    {
     "name": "stdout",
     "output_type": "stream",
     "text": [
      "[[1, 2, 3], [8, 9, 4], [7, 6, 5]]\n"
     ]
    }
   ],
   "source": [
    "import java.util.Arrays;\n",
    "\n",
    "public class SpiralMatrix {\n",
    "    public static void main(String[] args) {\n",
    "        int n = 3; // Example input\n",
    "        int[][] matrix = generateSpiralMatrix(n);\n",
    "        printMatrix(matrix);\n",
    "    }\n",
    "\n",
    "    // Method to generate a spiral matrix of size n\n",
    "    public static int[][] generateSpiralMatrix(int n) {\n",
    "        int[][] matrix = new int[n][n];\n",
    "        int left = 0, right = n - 1, top = 0, bottom = n - 1;\n",
    "        int num = 1;\n",
    "\n",
    "        while (num <= n * n) {\n",
    "            // Fill the top row\n",
    "            for (int i = left; i <= right; i++) {\n",
    "                matrix[top][i] = num++;\n",
    "            }\n",
    "            top++;\n",
    "\n",
    "            // Fill the right column\n",
    "            for (int i = top; i <= bottom; i++) {\n",
    "                matrix[i][right] = num++;\n",
    "            }\n",
    "            right--;\n",
    "\n",
    "            // Fill the bottom row\n",
    "            for (int i = right; i >= left; i--) {\n",
    "                matrix[bottom][i] = num++;\n",
    "            }\n",
    "            bottom--;\n",
    "\n",
    "            // Fill the left column\n",
    "            for (int i = bottom; i >= top; i--) {\n",
    "                matrix[i][left] = num++;\n",
    "            }\n",
    "            left++;\n",
    "        }\n",
    "\n",
    "        return matrix;\n",
    "    }\n",
    "\n",
    "    // Method to print the matrix\n",
    "    public static void printMatrix(int[][] matrix) {\n",
    "        System.out.println(Arrays.deepToString(matrix));\n",
    "    }\n",
    "}\n",
    "SpiralMatrix.main(null);"
   ]
  }
 ],
 "metadata": {
  "kernelspec": {
   "display_name": "Java",
   "language": "java",
   "name": "java"
  },
  "language_info": {
   "codemirror_mode": "java",
   "file_extension": ".jshell",
   "mimetype": "text/x-java-source",
   "name": "Java",
   "pygments_lexer": "java",
   "version": "17.0.11+7-LTS-207"
  },
  "orig_nbformat": 4
 },
 "nbformat": 4,
 "nbformat_minor": 2
}
