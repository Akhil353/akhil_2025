{
 "cells": [
  {
   "cell_type": "raw",
   "metadata": {},
   "source": [
    "---\n",
    "layout: post\n",
    "title:  9.7 Object Superclass\n",
    "courses: { csse: {week: 1}, csp: {week: 1}, csa: {week: 1} }\n",
    "categories: [DevOps]\n",
    "permalink: /inheritance/object-superclass\n",
    "menu: nav/inheritance.html\n",
    "comments: true\n",
    "sticky_rank: 1\n",
    "---"
   ]
  },
  {
   "cell_type": "markdown",
   "metadata": {},
   "source": [
    "## Object Superclass"
   ]
  },
  {
   "cell_type": "markdown",
   "metadata": {},
   "source": [
    "Learning Targets: \n",
    "   * What is the *Object* class\n",
    "   * Why is the *Object* class important to remember"
   ]
  },
  {
   "cell_type": "markdown",
   "metadata": {},
   "source": [
    "***"
   ]
  },
  {
   "cell_type": "markdown",
   "metadata": {},
   "source": [
    "Every class and object created **without** the ```extends``` keyword will be implicitly extended from the **[Object Superclass](https://docs.oracle.com/javase/8/docs/api/java/lang/Object.html)**. This means it will inherit some basic methods. Some notable methods are:\n",
    "1. ```getClass()```\n",
    "2. ```toString()```\n",
    "3. ```equals()```"
   ]
  },
  {
   "cell_type": "markdown",
   "metadata": {},
   "source": [
    "### So What?\n",
    "Well its important to keep in mind when writing out your class. If you are planning to have a **method** in your class/object that **matches** the basic **Object**, then it **must** be a ```public override``` because all of the Object methods are public.\n",
    "* are some methods from Object such as **getClass()** that you **cannot** override."
   ]
  },
  {
   "cell_type": "code",
   "execution_count": null,
   "metadata": {},
   "outputs": [],
   "source": [
    "// this will return an error\n",
    "class Shape {\n",
    "    String toString(){\n",
    "        return \"Shape\";\n",
    "    }\n",
    "}"
   ]
  },
  {
   "cell_type": "code",
   "execution_count": 2,
   "metadata": {},
   "outputs": [],
   "source": [
    "// this will be fine\n",
    "class Shape{\n",
    "    @Override\n",
    "    public String toString(){\n",
    "        return \"Shape\";\n",
    "    }\n",
    "}"
   ]
  },
  {
   "cell_type": "markdown",
   "metadata": {},
   "source": [
    "## Popcorn Hacks\n",
    "Create an example where you execute an unchanged method from *Object*, then execute a different method from *Object* that you changed."
   ]
  },
  {
   "cell_type": "code",
   "execution_count": 2,
   "metadata": {},
   "outputs": [
    {
     "name": "stdout",
     "output_type": "stream",
     "text": [
      "Shape name: Circle\n",
      "false\n",
      "true\n"
     ]
    }
   ],
   "source": [
    "class Shape {\n",
    "    private String shapeName;\n",
    "\n",
    "    public Shape(String shapeName) {\n",
    "        this.shapeName = shapeName;\n",
    "    }\n",
    "\n",
    "    @Override\n",
    "    public String toString() {\n",
    "        return \"Shape name: \" + shapeName;\n",
    "    }\n",
    "\n",
    "    @Override\n",
    "    public boolean equals(Object obj) {\n",
    "        if (this == obj) return true;\n",
    "        if (!(obj instanceof Shape)) return false;\n",
    "        Shape other = (Shape) obj;\n",
    "        return this.shapeName.equals(other.shapeName);\n",
    "    }\n",
    "}\n",
    "\n",
    "public class Main {\n",
    "    public static void main(String[] args) {\n",
    "        Shape circle = new Shape(\"Circle\");\n",
    "        Shape square = new Shape(\"Square\");\n",
    "        Shape anotherCircle = new Shape(\"Circle\");\n",
    "\n",
    "        System.out.println(circle.toString());\n",
    "        System.out.println(circle.equals(square));\n",
    "        System.out.println(circle.equals(anotherCircle));\n",
    "    }\n",
    "}\n",
    "\n",
    "Main.main(null);"
   ]
  }
 ],
 "metadata": {
  "kernelspec": {
   "display_name": "Java",
   "language": "java",
   "name": "java"
  },
  "language_info": {
   "codemirror_mode": "java",
   "file_extension": ".jshell",
   "mimetype": "text/x-java-source",
   "name": "java",
   "pygments_lexer": "java",
   "version": "17.0.11+7-LTS-207"
  }
 },
 "nbformat": 4,
 "nbformat_minor": 2
}
