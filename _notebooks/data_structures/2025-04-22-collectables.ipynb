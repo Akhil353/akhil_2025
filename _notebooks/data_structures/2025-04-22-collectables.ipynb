{
 "cells": [
  {
   "cell_type": "markdown",
   "metadata": {},
   "source": [
    "# Part 1"
   ]
  },
  {
   "cell_type": "code",
   "execution_count": null,
   "metadata": {
    "vscode": {
     "languageId": "java"
    }
   },
   "outputs": [],
   "source": [
    "public static List<Integer> getEvenNumbers(List<Integer> numbers) {\n",
    "    List<Integer> result = new ArrayList<>();\n",
    "    \n",
    "    for (int i = 0; i < numbers.size(); i++) {\n",
    "        int current = numbers.get(i);\n",
    "        if (current % 2 == 0) {\n",
    "            result.add(current);\n",
    "        }\n",
    "    }\n",
    "    \n",
    "    return result;\n",
    "}"
   ]
  },
  {
   "cell_type": "markdown",
   "metadata": {},
   "source": [
    "# Part 2"
   ]
  },
  {
   "cell_type": "code",
   "execution_count": null,
   "metadata": {
    "vscode": {
     "languageId": "java"
    }
   },
   "outputs": [],
   "source": [
    "public static Set<Integer> getIntersection(Set<Integer> set1, Set<Integer> set2) {\n",
    "    Set<Integer> result = new HashSet<>();\n",
    "    \n",
    "    for (Integer element : set1) {\n",
    "        if (set2.contains(element)) {\n",
    "            result.add(element);\n",
    "        }\n",
    "    }\n",
    "    \n",
    "    return result;\n",
    "}"
   ]
  },
  {
   "cell_type": "markdown",
   "metadata": {},
   "source": [
    "# Part 3"
   ]
  },
  {
   "cell_type": "code",
   "execution_count": null,
   "metadata": {
    "vscode": {
     "languageId": "java"
    }
   },
   "outputs": [],
   "source": [
    "public static void simulateCustomerLine() {\n",
    "    Deque<String> line = new ArrayDeque<>();\n",
    "    \n",
    "    line.addLast(\"Customer 1\");\n",
    "    line.addLast(\"Customer 2\");\n",
    "    line.addLast(\"Customer 3\");\n",
    "    \n",
    "    line.addFirst(\"VIP Customer\");\n",
    "    \n",
    "    line.removeFirst();\n",
    "    \n",
    "    System.out.println(\"Front of line: \" + line.peekFirst());\n",
    "    System.out.println(\"Back of line: \" + line.peekLast());\n",
    "    \n",
    "    System.out.println(\"Line size: \" + line.size());\n",
    "}"
   ]
  },
  {
   "cell_type": "markdown",
   "metadata": {},
   "source": [
    "# Extra Question\n",
    "\n",
    "A Hashset would be best for storing StudentIDs since it automatically prevents duplicates and has a time complexity for lookup operations of O(1), making it more efficient than any other collection type."
   ]
  }
 ],
 "metadata": {
  "language_info": {
   "name": "python"
  },
  "orig_nbformat": 4
 },
 "nbformat": 4,
 "nbformat_minor": 2
}
