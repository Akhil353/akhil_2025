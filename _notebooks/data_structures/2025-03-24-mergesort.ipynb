{
 "cells": [
  {
   "cell_type": "markdown",
   "metadata": {},
   "source": [
    "---\n",
    "layout: post\n",
    "title: Merge Sort Homework\n",
    "description: Homework for Merge Sort\n",
    "courses: {'csa': {'week': 26}}\n",
    "type: collab\n",
    "categories: ['AP CSA']\n",
    "permalink: /merging_homework\n",
    "comments: true\n",
    "---"
   ]
  },
  {
   "cell_type": "markdown",
   "metadata": {},
   "source": [
    "# Popcorn Hack"
   ]
  },
  {
   "cell_type": "code",
   "execution_count": null,
   "metadata": {
    "vscode": {
     "languageId": "java"
    }
   },
   "outputs": [],
   "source": [
    "public static int[] mergeSortedArrays(int[] arr1, int[] arr2) {\n",
    "    int n1 = arr1.length;\n",
    "    int n2 = arr2.length;\n",
    "    int[] merged = new int[n1 + n2];\n",
    "    int i = 0;\n",
    "    int j = 0;\n",
    "    int k = 0;\n",
    "\n",
    "    while (i < n1 && j < n2) {\n",
    "        if (arr1[i] <= arr2[j]) {\n",
    "            merged[k++] = arr1[i++];\n",
    "        } else {\n",
    "            merged[k++] = arr2[j++];\n",
    "        }\n",
    "    }\n",
    "\n",
    "    while (i < n1) {\n",
    "        merged[k++] = arr1[i++];\n",
    "    }\n",
    "    while (j < n2) {\n",
    "        merged[k++] = arr2[j++];\n",
    "    }\n",
    "    return merged;\n",
    "}\n",
    "\n",
    "public static void main(String[] args) {\n",
    "    int[] arr = {12, 11, 13, 5, 6, 7};\n",
    "    System.out.println(\"Original array: \" + Arrays.toString(arr));\n",
    "    mergeSort(arr, 0, arr.length - 1);\n",
    "    System.out.println(\"Sorted array: \" + Arrays.toString(arr));\n",
    "    System.out.println(\"Comparisons: \" + getComparisonCount());\n",
    "\n",
    "    int[] arr1 = {1, 3, 5, 7};\n",
    "    int[] arr2 = {2, 4, 6, 8};\n",
    "    int[] mergedArray = mergeSortedArrays(arr1, arr2);\n",
    "    System.out.println(\"Merged sorted array: \" + Arrays.toString(mergedArray));\n",
    "}\n",
    "\n",
    "\n",
    "mergeSortedArrays.main(null);"
   ]
  },
  {
   "cell_type": "markdown",
   "metadata": {},
   "source": [
    "# Homework Questions\n",
    "\n",
    "\n",
    "### Time Complexity of Merge Sort  \n",
    "- Best Case: \\( O(n \\log n) \\) since even if the array is sorted, the array is divided into twos\n",
    "- Worst Case: \\( O(n \\log n) \\) every element is compared and merged\n",
    "- Average Case: \\( O(n \\log n) \\) the dividing and merging steps stay the same\n",
    "\n",
    "### Comparison of Merge Sort with Bubble Sort and Quick Sort  \n",
    "- Merge Sort is a lot quicker than Bubble Sort (\\( O(n \\log n) \\) vs. \\( O(n^2) \\))\n",
    "- Merge sort is better for when space complexity needs to be minimized.\n",
    "\n",
    "### Why is Merge Sort a \"Divide and Conquer\" Algorithm?  \n",
    "Merge sort divides the array into halves, sorts by comparing the halves separately, and merges them back together.\n",
    "\n",
    "### Is Merge Sort Stable? Why Does This Matter?  \n",
    "Merge sort is stable since it preserves the order of equal elements and is consistent in sorting. This matters since it prevents mishaps in sorting and errors running the algorithm."
   ]
  },
  {
   "cell_type": "markdown",
   "metadata": {},
   "source": [
    "# Homework Tasks"
   ]
  },
  {
   "cell_type": "code",
   "execution_count": null,
   "metadata": {
    "vscode": {
     "languageId": "java"
    }
   },
   "outputs": [],
   "source": [
    "import java.util.Arrays;\n",
    "\n",
    "public class MergeSrot {\n",
    "    static int comparisonCount = 0;\n",
    "\n",
    "    public static void mergeSort(int[] array, int left, int right) {\n",
    "        if (left < right) {\n",
    "            int mid = left + (right - left) / 2;\n",
    "            mergeSort(array, left, mid);\n",
    "            mergeSort(array, mid + 1, right);\n",
    "            merge(array, left, mid, right);\n",
    "        }\n",
    "    }\n",
    "\n",
    "    private static void merge(int[] array, int left, int mid, int right) {\n",
    "        int n1 = mid - left + 1;\n",
    "        int n2 = right - mid;\n",
    "\n",
    "        int[] leftArray = new int[n1];\n",
    "        int[] rightArray = new int[n2];\n",
    "\n",
    "        System.arraycopy(array, left, leftArray, 0, n1);\n",
    "        System.arraycopy(array, mid + 1, rightArray, 0, n2);\n",
    "\n",
    "        int i = 0, j = 0, k = left;\n",
    "        while (i < n1 && j < n2) {\n",
    "            comparisonCount++;\n",
    "            if (leftArray[i] <= rightArray[j]) {\n",
    "                array[k++] = leftArray[i++];\n",
    "            } else {\n",
    "                array[k++] = rightArray[j++];\n",
    "            }\n",
    "        }\n",
    "\n",
    "        while (i < n1) {\n",
    "            array[k++] = leftArray[i++];\n",
    "        }\n",
    "        while (j < n2) {\n",
    "            array[k++] = rightArray[j++];\n",
    "        }\n",
    "    }\n",
    "\n",
    "    //bonus task code\n",
    "    public static int getComparisonCount() {\n",
    "        return comparisonCount;\n",
    "    }"
   ]
  }
 ],
 "metadata": {
  "kernelspec": {
   "display_name": "Java",
   "language": "java",
   "name": "java"
  },
  "language_info": {
   "codemirror_mode": "java",
   "file_extension": ".jshell",
   "mimetype": "text/x-java-source",
   "name": "Java",
   "pygments_lexer": "java",
   "version": "17.0.11+7-LTS-207"
  },
  "orig_nbformat": 4
 },
 "nbformat": 4,
 "nbformat_minor": 2
}
