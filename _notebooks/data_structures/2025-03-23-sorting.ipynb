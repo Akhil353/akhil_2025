{
 "cells": [
  {
   "cell_type": "markdown",
   "metadata": {},
   "source": [
    "---\n",
    "layout: post\n",
    "title: Sorting Homework\n",
    "description: Homework for sorting\n",
    "courses: {'csa': {'week': 26}}\n",
    "type: collab\n",
    "categories: ['AP CSA']\n",
    "permalink: /sorting_homework\n",
    "comments: true\n",
    "---"
   ]
  },
  {
   "cell_type": "markdown",
   "metadata": {},
   "source": [
    "# Selection Sort for Descending order"
   ]
  },
  {
   "cell_type": "code",
   "execution_count": null,
   "metadata": {
    "vscode": {
     "languageId": "java"
    }
   },
   "outputs": [],
   "source": [
    "import java.util.Arrays;\n",
    "\n",
    "public class SelectionSortDescending {\n",
    "    static void selectionSortDescending(int[] arr) {\n",
    "        int n = arr.length;\n",
    "\n",
    "        for (int i = 0; i < n - 1; i++) {\n",
    "            int maxIdx = i;\n",
    "\n",
    "            for (int j = i + 1; j < n; j++) {\n",
    "                if (arr[j] > arr[maxIdx]) {  \n",
    "                    maxIdx = j;\n",
    "                }\n",
    "            }\n",
    "\n",
    "            int temp = arr[i];\n",
    "            arr[i] = arr[maxIdx];\n",
    "            arr[maxIdx] = temp;\n",
    "        }\n",
    "    }\n",
    "\n",
    "    public static void main(String[] args) {\n",
    "        int[] arrayA = {29, 10, 14, 37, 13};\n",
    "        long startTime = System.nanoTime();\n",
    "        selectionSortDescending(arrayA);\n",
    "        long endTime = System.nanoTime();\n",
    "\n",
    "        System.out.println(\"Selection Sort (Descending): \" + Arrays.toString(arrayA));\n",
    "        System.out.println(\"Time taken: \" + (endTime - startTime) + \" ns\");\n",
    "    }\n",
    "}\n",
    "\n",
    "SelectionSortDescending.main(null);"
   ]
  },
  {
   "cell_type": "markdown",
   "metadata": {},
   "source": [
    "# Insertion sort ascending order"
   ]
  },
  {
   "cell_type": "code",
   "execution_count": null,
   "metadata": {
    "vscode": {
     "languageId": "java"
    }
   },
   "outputs": [],
   "source": [
    "public class InsertionSortAscending {\n",
    "    static void insertionSortAscending(int[] arr) {\n",
    "        int n = arr.length;\n",
    "\n",
    "        for (int i = 1; i < n; i++) {\n",
    "            int key = arr[i];\n",
    "            int j = i - 1;\n",
    "\n",
    "            while (j >= 0 && arr[j] > key) {\n",
    "                arr[j + 1] = arr[j];\n",
    "                j--;\n",
    "            }\n",
    "\n",
    "            arr[j + 1] = key;\n",
    "        }\n",
    "    }\n",
    "\n",
    "    public static void main(String[] args) {\n",
    "        int[] arrayB = {1, 2, 5, 4, 3, 6, 7, 8, 9, 10};\n",
    "        long startTime = System.nanoTime();\n",
    "        insertionSortAscending(arrayB);\n",
    "        long endTime = System.nanoTime();\n",
    "\n",
    "        System.out.println(\"Insertion Sort (Ascending): \" + Arrays.toString(arrayB));\n",
    "        System.out.println(\"Time taken: \" + (endTime - startTime) + \" ns\");\n",
    "    }\n",
    "}\n",
    "\n",
    "InsertionSortAscending.main(null);"
   ]
  },
  {
   "cell_type": "markdown",
   "metadata": {},
   "source": [
    "# Time complexity"
   ]
  },
  {
   "cell_type": "code",
   "execution_count": null,
   "metadata": {
    "vscode": {
     "languageId": "java"
    }
   },
   "outputs": [],
   "source": [
    "public class SortingComparison {\n",
    "    static void selectionSortDescending(int[] arr) {\n",
    "        int n = arr.length;\n",
    "        for (int i = 0; i < n - 1; i++) {\n",
    "            int maxIdx = i;\n",
    "            for (int j = i + 1; j < n; j++) {\n",
    "                if (arr[j] > arr[maxIdx]) {\n",
    "                    maxIdx = j;\n",
    "                }\n",
    "            }\n",
    "            int temp = arr[i];\n",
    "            arr[i] = arr[maxIdx];\n",
    "            arr[maxIdx] = temp;\n",
    "        }\n",
    "    }\n",
    "\n",
    "    static void insertionSortAscending(int[] arr) {\n",
    "        int n = arr.length;\n",
    "        for (int i = 1; i < n; i++) {\n",
    "            int key = arr[i];\n",
    "            int j = i - 1;\n",
    "            while (j >= 0 && arr[j] > key) {\n",
    "                arr[j + 1] = arr[j];\n",
    "                j--;\n",
    "            }\n",
    "            arr[j + 1] = key;\n",
    "        }\n",
    "    }\n",
    "\n",
    "    public static void main(String[] args) {\n",
    "        int[] arrayA = {29, 10, 14, 37, 13};\n",
    "        int[] arrayB = {1, 2, 5, 4, 3, 6, 7, 8, 9, 10};\n",
    "\n",
    "        long startTime, endTime;\n",
    "\n",
    "        int[] arrayACopy = arrayA.clone();\n",
    "        startTime = System.nanoTime();\n",
    "        selectionSortDescending(arrayACopy);\n",
    "        endTime = System.nanoTime();\n",
    "        System.out.println(\"Selection Sort (Array A) Time: \" + (endTime - startTime) + \" ns\");\n",
    "\n",
    "        int[] arrayBCopy = arrayB.clone();\n",
    "        startTime = System.nanoTime();\n",
    "        insertionSortAscending(arrayBCopy);\n",
    "        endTime = System.nanoTime();\n",
    "        System.out.println(\"Insertion Sort (Array B) Time: \" + (endTime - startTime) + \" ns\");\n",
    "    }\n",
    "}\n",
    "\n",
    "SortingComparison.main(null);"
   ]
  },
  {
   "cell_type": "markdown",
   "metadata": {},
   "source": [
    "\n",
    "1. Selection Sort runs in O(n²) time which is very slow. Since it iterates through each element for each element, even if it is already sorted the time complexity is bad.\n",
    "\n",
    "2. Array B will be sorted best with Insertion sort since the array is already sorted mostly, so only a few swaps are needed and insertion sort is the best for this.\n",
    "\n",
    "3. Selection sort is the best for smaller arrays, but for bigger arrays, insertion sort works best due to the better time complexity,"
   ]
  }
 ],
 "metadata": {
  "language_info": {
   "name": "python"
  },
  "orig_nbformat": 4
 },
 "nbformat": 4,
 "nbformat_minor": 2
}
