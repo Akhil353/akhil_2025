{
 "cells": [
  {
   "cell_type": "markdown",
   "metadata": {},
   "source": [
    "# Popcorn Hack 1"
   ]
  },
  {
   "cell_type": "markdown",
   "metadata": {},
   "source": [
    "The Adjacency List is the most efficient since it has the best time complexity and is also the most compact in terms of storage."
   ]
  },
  {
   "cell_type": "markdown",
   "metadata": {},
   "source": [
    "# Popcorn Hack 2"
   ]
  },
  {
   "cell_type": "markdown",
   "metadata": {},
   "source": [
    "The method is directionless since the connection between the node is stored both ways. Removing one of the lines would make it so the connection is only stored one way, making it a directed graph."
   ]
  },
  {
   "cell_type": "markdown",
   "metadata": {},
   "source": [
    "# Popcorn Hack 3"
   ]
  },
  {
   "cell_type": "markdown",
   "metadata": {},
   "source": [
    "A human would find a path from the start node to the end node by checking each neighbor of the starting node and if they reach a dead-end, back-track to a previous node."
   ]
  },
  {
   "cell_type": "markdown",
   "metadata": {},
   "source": [
    "# Homework"
   ]
  },
  {
   "cell_type": "markdown",
   "metadata": {},
   "source": [
    "1. How might I represented a weighted graph? \n",
    "    - Using an Adjacency List?\n",
    "      - Use a 2D array to store each connection with the node value and the weight of the travel path in the 2D array\n",
    "    - Using a Vertex and Edge Set?\n",
    "      - Use a 2D array in the Edge set to store both the connections between the vertexes and the weight of the path\n",
    "2. How might I represented a directed graph?\n",
    "    - Using an Adjacency List?\n",
    "      - Only add a connection between 2 nodes one way (ex. A -> B, but NOT b -> A)\n",
    "    - Using a Vertex and Edge Set?\n",
    "      - Use an ordered pairing to store connections between nodes\n",
    "3. Represent the following graph using an adjacency matrix\n",
    "  1 2 3 4 5 6 7\n",
    "1 0 1 1 1 0 0 0\n",
    "2 0 0 0 1 1 0 0\n",
    "3 0 0 0 1 0 1 0\n",
    "4 0 0 0 0 0 1 1\n",
    "5 0 0 0 0 0 0 1\n",
    "6 0 0 0 0 0 0 0\n",
    "7 0 0 0 0 0 0 0\n"
   ]
  },
  {
   "cell_type": "code",
   "execution_count": null,
   "metadata": {
    "vscode": {
     "languageId": "java"
    }
   },
   "outputs": [],
   "source": [
    "// part 2\n",
    "public void addNode() {\n",
    "    LinkedList<Integer>[] newList = new LinkedList[nodes + 1];\n",
    "    for (int i = 0; i < nodes; i++) {\n",
    "        newList[i] = adjacencyList[i];\n",
    "    }\n",
    "    newList[nodes] = new LinkedList<>();\n",
    "    adjacencyList = newList;\n",
    "    nodes++;\n",
    "}\n",
    "\n",
    "public void removeEdge(int source, int destination) {\n",
    "    adjacencyList[source].remove(Integer.valueOf(destination));\n",
    "    adjacencyList[destination].remove(Integer.valueOf(source));\n",
    "}"
   ]
  },
  {
   "cell_type": "code",
   "execution_count": null,
   "metadata": {
    "vscode": {
     "languageId": "java"
    }
   },
   "outputs": [],
   "source": [
    "// part 3\n",
    "public void bfs(int start, int target) {\n",
    "    Queue<Integer> queue = new LinkedList<>();\n",
    "    Map<Integer, Integer> parent = new HashMap<>();\n",
    "    Set<Integer> visited = new HashSet<>();\n",
    "    \n",
    "    queue.add(start);\n",
    "    visited.add(start);\n",
    "    parent.put(start, -1);\n",
    "    \n",
    "    while (!queue.isEmpty()) {\n",
    "        int current = queue.poll();\n",
    "        System.out.println(\"Visiting: \" + current);\n",
    "        \n",
    "        if (current == target) {\n",
    "            System.out.println(\"Target found!\");\n",
    "            printPath(parent, target);\n",
    "            return;\n",
    "        }\n",
    "        \n",
    "        for (int neighbor : adjacencyList[current]) {\n",
    "            if (!visited.contains(neighbor)) {\n",
    "                visited.add(neighbor);\n",
    "                parent.put(neighbor, current);\n",
    "                queue.add(neighbor);\n",
    "            }\n",
    "        }\n",
    "    }\n",
    "}\n",
    "\n",
    "private boolean dfsHelper(int current, int target, Map<Integer, Integer> parent, Set<Integer> visited) {\n",
    "    visited.add(current);\n",
    "    System.out.println(\"Visiting: \" + current);\n",
    "    \n",
    "    if (current == target) {\n",
    "        System.out.println(\"Target found!\");\n",
    "        printPath(parent, target);\n",
    "        return true;\n",
    "    }\n",
    "    \n",
    "    for (int neighbor : adjacencyList[current]) {\n",
    "        if (!visited.contains(neighbor)) {\n",
    "            parent.put(neighbor, current);\n",
    "            if (dfsHelper(neighbor, target, parent, visited)) {\n",
    "                return true;\n",
    "            }\n",
    "        }\n",
    "    }\n",
    "    return false;\n",
    "}"
   ]
  },
  {
   "cell_type": "markdown",
   "metadata": {},
   "source": [
    "# Bonus Problem"
   ]
  },
  {
   "cell_type": "code",
   "execution_count": null,
   "metadata": {
    "vscode": {
     "languageId": "java"
    }
   },
   "outputs": [],
   "source": [
    "public List<Integer> travelingSalesman(int start, int end) {\n",
    "    List<Integer> allNodes = new ArrayList<>();\n",
    "    for (int i = 0; i < nodes; i++) {\n",
    "        if (i != start && i != end) {\n",
    "            allNodes.add(i);\n",
    "        }\n",
    "    }\n",
    "    \n",
    "    List<Integer> bestPath = null;\n",
    "    int shortestDistance = Integer.MAX_VALUE;\n",
    "\n",
    "    List<List<Integer>> permutations = getAllPermutations(allNodes);\n",
    "    \n",
    "    for (List<Integer> perm : permutations) {\n",
    "        List<Integer> path = new ArrayList<>();\n",
    "        path.add(start);\n",
    "        path.addAll(perm);\n",
    "        path.add(end);\n",
    "        \n",
    "        int distance = calculatePathLength(path);\n",
    "        if (distance < shortestDistance) {\n",
    "            shortestDistance = distance;\n",
    "            bestPath = path;\n",
    "        }\n",
    "    }\n",
    "    \n",
    "    return bestPath;\n",
    "}"
   ]
  }
 ],
 "metadata": {
  "language_info": {
   "name": "python"
  },
  "orig_nbformat": 4
 },
 "nbformat": 4,
 "nbformat_minor": 2
}
