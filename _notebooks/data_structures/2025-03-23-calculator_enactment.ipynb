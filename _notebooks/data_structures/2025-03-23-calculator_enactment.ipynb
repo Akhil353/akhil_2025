{
 "cells": [
  {
   "cell_type": "markdown",
   "metadata": {},
   "source": [
    "---\n",
    "layout: post\n",
    "title: Calculator Homework\n",
    "description: Homework for calculator enactment.\n",
    "courses: {'csa': {'week': 26}}\n",
    "type: collab\n",
    "categories: ['AP CSA']\n",
    "permalink: /calculator_enactment\n",
    "comments: true\n",
    "---"
   ]
  },
  {
   "cell_type": "code",
   "execution_count": 1,
   "metadata": {},
   "outputs": [
    {
     "name": "stdout",
     "output_type": "stream",
     "text": [
      "64\n"
     ]
    }
   ],
   "source": [
    "import java.util.Stack;\n",
    "\n",
    "public class PrefixCalculator {\n",
    "    public static int evaluatePrefix(String expression) {\n",
    "        Stack<Integer> stack = new Stack<>();\n",
    "        String[] tokens = expression.split(\" \");\n",
    "        \n",
    "        // loop through the expression from right to left\n",
    "        for (int i = tokens.length - 1; i >= 0; i--) {\n",
    "            String token = tokens[i];\n",
    "\n",
    "            if (isNumeric(token)) {  \n",
    "                stack.push(Integer.parseInt(token));\n",
    "            } else {  \n",
    "                int num1 = stack.pop();\n",
    "                int num2 = stack.pop();\n",
    "                \n",
    "                switch (token) {\n",
    "                    case \"+\": stack.push(num1 + num2); break;\n",
    "                    case \"-\": stack.push(num1 - num2); break;\n",
    "                    case \"*\": stack.push(num1 * num2); break;\n",
    "                    case \"/\": stack.push(num1 / num2); break;\n",
    "                    case \"^\": stack.push((int) Math.pow(num1, num2)); break;\n",
    "                }\n",
    "            }\n",
    "        }\n",
    "        return stack.pop();\n",
    "    }\n",
    "\n",
    "    private static boolean isNumeric(String str) {\n",
    "        return str.matches(\"-?\\\\d+\");\n",
    "    }\n",
    "\n",
    "    public static void main(String[] args) {\n",
    "        String expression = \"* + 3 5 8\";  \n",
    "        System.out.println(evaluatePrefix(expression));  // output: 64\n",
    "    }\n",
    "}\n",
    "\n",
    "PrefixCalculator.main(null);"
   ]
  },
  {
   "cell_type": "code",
   "execution_count": null,
   "metadata": {},
   "outputs": [],
   "source": []
  }
 ],
 "metadata": {
  "kernelspec": {
   "display_name": "Java",
   "language": "java",
   "name": "java"
  },
  "language_info": {
   "codemirror_mode": "java",
   "file_extension": ".jshell",
   "mimetype": "text/x-java-source",
   "name": "java",
   "pygments_lexer": "java",
   "version": "17.0.11+7-LTS-207"
  },
  "orig_nbformat": 4
 },
 "nbformat": 4,
 "nbformat_minor": 2
}
