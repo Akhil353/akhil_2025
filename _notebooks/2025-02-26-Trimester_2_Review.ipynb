{
 "cells": [
  {
   "cell_type": "markdown",
   "metadata": {},
   "source": [
    "---\n",
    "layout: post\n",
    "title: Trimester 2 Review\n",
    "courses: {'csa': {'week': 23}}\n",
    "type: collab\n",
    "categories: ['AP CSA']\n",
    "permalink: /tri_2_review\n",
    "comments: true\n",
    "---"
   ]
  },
  {
   "cell_type": "markdown",
   "metadata": {},
   "source": [
    "# Finished Burndown List Tasks (Completed in late Trimester 1 / Trimester 2)\n",
    "\n",
    "#### Accomplishment 1: Integrating StudentInfo to manage student layouts on frontend and backend\n",
    "  - Big connections \n",
    "    - Person: Assigning StudentInfo to each person added to the DB with a one-to-one relationship\n",
    "    - Queue: If a person is clicked on the backend queue page, it links to their StudentInfo\n",
    "      - ![Alt text](/akhil_2025/images/queue.png)\n",
    "  - Use Cases for Mr. Mortensen\n",
    "    - Seeing what students are sitting where\n",
    "      - Future plans for an attendance system\n",
    "    - Seeing the activity of any student at any time via the tasks feature\n",
    "\n",
    "#### Accomplishment 2: Creating the assignment submissions page\n",
    "  - Helped Rahul create the backend system that creates an assignment and gets submissions from frontend\n",
    "  - Helped Aadit make the frontend page to allow for student submissions to an assignment\n",
    "\n",
    "#### Accomplishment 3: Group sign-up page for the Queue system\n",
    "  - Created the basic system to allow students to queue up for a presentation as a group\n",
    "  - Mr. Mortensen can see the analytics (StudentInfo) of any student that presents on a group on backend\n",
    "\n",
    "&nbsp;\n",
    "&nbsp;\n",
    "&nbsp;"
   ]
  },
  {
   "cell_type": "markdown",
   "metadata": {},
   "source": [
    "\n",
    "---\n",
    "&nbsp;\n",
    "&nbsp;\n",
    "&nbsp;\n",
    "# Burndown List (Unfinished work / Tasks for Trimester 3)\n",
    "\n",
    "#### Task 1: Separating the Queue feature to its own page + Increasing usability\n",
    "  - Making a separate page that is distinct from the regular Queue so students can differentiate between individual assignments and group assignments\n",
    "\n",
    "#### Task 2: Integration between Assignments and StudentInfo\n",
    "  - Linking assignments to the tasks feature on StudentInfo so tasks can be linked to a specific assignment\n",
    "    - Lets Mr. Mortensen see the relavancy of a given task\n",
    "\n",
    "#### Task 3: Attendance based on Log-In\n",
    "  - Mark a student as logged in vs. absent based on if they log into their NighthawkCoders account and sign in\n",
    "    - Mark attendance on each table on the StudentInfo Table view so Mr. Mortensen can easily mark students absent\n",
    "    - ![Alt text](/akhil_2025/images/attendance.png)\n",
    "\n",
    "&nbsp;\n",
    "&nbsp;\n",
    "&nbsp;\n"
   ]
  },
  {
   "cell_type": "markdown",
   "metadata": {},
   "source": [
    "\n",
    "---\n",
    "&nbsp;\n",
    "&nbsp;\n",
    "&nbsp;\n",
    "\n",
    "# Collegeboard Practice Results\n",
    "\n",
    "#### MCQ Results\n",
    "  - Score: 34/39\n",
    "  - Big improvements when it came to tasks such as recursion or code simulation\n",
    "  - ADD WRONG QUESTIONS + CODE CELLS OF THE QUESTIONS BELOW"
   ]
  }
 ],
 "metadata": {
  "language_info": {
   "name": "python"
  },
  "orig_nbformat": 4
 },
 "nbformat": 4,
 "nbformat_minor": 2
}
